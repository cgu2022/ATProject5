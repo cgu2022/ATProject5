{
 "nbformat": 4,
 "nbformat_minor": 2,
 "metadata": {
  "language_info": {
   "name": "python",
   "codemirror_mode": {
    "name": "ipython",
    "version": 3
   },
   "version": "3.7.4-final"
  },
  "orig_nbformat": 2,
  "file_extension": ".py",
  "mimetype": "text/x-python",
  "name": "python",
  "npconvert_exporter": "python",
  "pygments_lexer": "ipython3",
  "version": 3,
  "kernelspec": {
   "name": "python37464bit35d7a11e2e4c46fa9a25217bb1d0a4e1",
   "display_name": "Python 3.7.4 64-bit"
  }
 },
 "cells": [
  {
   "source": [
    "import numpy as np\n",
    "# from NeuralNetwork2 import Model2\n",
    "\n",
    "#X = np.array([[0.05], [0.1]], dtype=float) # 2, 3\n",
    "X = np.array(([[0.05, 0.05, 0.05], [0.1, 0.1, 0.1]]), dtype=float) # 2, 3\n",
    "y = np.array([[0.01, 0.01, 0.01], [0.99, 0.99, 0.99]], dtype=float) # 2, 3\n",
    "\n"
   ],
   "cell_type": "code",
   "outputs": [],
   "metadata": {},
   "execution_count": 195
  },
  {
   "source": [
    "class Model2:\n",
    "\n",
    "    def __init__(self):\n",
    "        # Weights (Parameters)\n",
    "        #self.W1 = np.array([[0.1498, 0.2995], [0.1997, 0.3494], [0.2497, 0.3993]], dtype=float)\n",
    "        #self.W2 = np.array([[0.4702, 0.5701, 0.6700], [0.5535, 0.6535, 0.7535]], dtype=float)\n",
    "        self.W1 = np.array(([[0.15, 0.3], [0.2, 0.35], [0.25, 0.4]]), dtype=float)\n",
    "        self.W2 = np.array(([[0.5, 0.6, 0.7], [0.55, 0.65, 0.75]]), dtype=float)\n",
    "\n",
    "        # Biases\n",
    "        # self.B1 = [[0.4451], [0.4441], [0.4431]] # Length should be number of columns of X\n",
    "        # self.B2 = [[0.7519], [0.8056]]\n",
    "        self.B1 = [[0.45], [0.45], [0.45]] # Length should be number of columns of X\n",
    "        self.B2 = [[0.8], [0.8]]\n",
    "\n",
    "    def sigmoid(self, z):\n",
    "            return 1/(1+np.exp(-z))\n",
    "    \n",
    "    def sigmoidPrime(self, z):\n",
    "        # Derivative of Sigmoid Function\n",
    "        return np.exp(-z)/((1+np.exp(-z))**2)\n",
    "\n",
    "    def relu(self, z):\n",
    "        return np.maximum(0, z)\n",
    "    \n",
    "    def forward(self, X):\n",
    "        # Propogate inputs through networks\n",
    "        self.a1 = X # Just for formality sake\n",
    "        self.z2 = np.dot(self.W1, X) + self.B1\n",
    "        self.a2 = self.sigmoid(self.z2)\n",
    "        self.z3 = np.dot(self.W2, self.a2) + self.B2\n",
    "        yHat = self.sigmoid(self.z3)\n",
    "        return yHat\n",
    "\n",
    "    def costFunction(self, X, y):\n",
    "        # Compute cost using the weights already stored\n",
    "        self.yHat = self.forward(X)\n",
    "        J = 0.5*sum((y-self.yHat)**2)\n",
    "        return J\n",
    "    \n",
    "    def costFunctionPrime(self, X, y):\n",
    "        # Computes partial derivatives of Cost function\n",
    "        self.yHat = self.forward(X)\n",
    "\n",
    "        delta3 = np.multiply(-(y-self.yHat), self.sigmoidPrime(self.z3))\n",
    "        dJdW2 = np.dot(delta3, self.a2.T)\n",
    "        dJdB2 = delta3.sum(axis=1).reshape(delta3.shape[0],1)\n",
    "\n",
    "        delta2 = np.multiply(np.dot(self.W2.T, delta3), self.sigmoidPrime(self.z2)) \n",
    "        dJdW1 = np.dot(delta2, X.T)\n",
    "        dJdB1 = delta2.sum(axis=1).reshape(delta2.shape[0],1)\n",
    "\n",
    "        return dJdW1, dJdW2, dJdB2, dJdB1\n",
    "    \n",
    "    def tuneParams(self, X, y, learning_rate=0.5):  \n",
    "        dJdW1, dJdW2, dJdB2, dJdB1 = self.costFunctionPrime(X, y)\n",
    "        scalar = learning_rate/X.shape[1]\n",
    "        model.W1 = model.W1 - scalar*dJdW1\n",
    "        model.W2 = model.W2 - scalar*dJdW2\n",
    "        model.B1 = model.B1 - scalar*dJdB1\n",
    "        model.B2 = model.B2 - scalar*dJdB2\n"
   ],
   "cell_type": "code",
   "outputs": [],
   "metadata": {},
   "execution_count": 196
  },
  {
   "source": [
    "model = Model2()"
   ],
   "cell_type": "code",
   "outputs": [],
   "metadata": {},
   "execution_count": 197
  },
  {
   "source": [
    "cost1 = model.costFunction(X, y)\n",
    "print(cost1)"
   ],
   "cell_type": "code",
   "outputs": [
    {
     "output_type": "stream",
     "name": "stdout",
     "text": "[0.37734071 0.37734071 0.37734071]\n"
    }
   ],
   "metadata": {},
   "execution_count": 200
  },
  {
   "source": [
    "dJdW1, dJdW2, dJdB2, dJdB1 = model.costFunctionPrime(X, y)"
   ],
   "cell_type": "code",
   "outputs": [],
   "metadata": {},
   "execution_count": 180
  },
  {
   "source": [
    "dJdW1"
   ],
   "cell_type": "code",
   "outputs": [
    {
     "output_type": "execute_result",
     "data": {
      "text/plain": "array([[0.00148257, 0.00296514],\n       [0.00177984, 0.00355967],\n       [0.00207597, 0.00415194]])"
     },
     "metadata": {},
     "execution_count": 181
    }
   ],
   "metadata": {},
   "execution_count": 181
  },
  {
   "source": [
    "dJdW2"
   ],
   "cell_type": "code",
   "outputs": [
    {
     "output_type": "execute_result",
     "data": {
      "text/plain": "array([[ 0.17882758,  0.17933743,  0.17984634],\n       [-0.02087801, -0.02093753, -0.02099695]])"
     },
     "metadata": {},
     "execution_count": 167
    }
   ],
   "metadata": {},
   "execution_count": 167
  },
  {
   "source": [
    "scalar = 3 # Increasing along gradient (REMEMBER to divide scalar by amount of data)\n",
    "model.W1 = model.W1 + scalar*dJdW1\n",
    "model.W2 = model.W2 + scalar*dJdW2\n",
    "model.B1 = model.B1 + scalar*dJdB1\n",
    "model.B2 = model.B2 + scalar*dJdB2\n",
    "cost2 = model.costFunction(X,y)"
   ],
   "cell_type": "code",
   "outputs": [],
   "metadata": {},
   "execution_count": 170
  },
  {
   "source": [
    "print(cost1, cost2) # # Moving along gradient will cause cost function to increase"
   ],
   "cell_type": "code",
   "outputs": [
    {
     "output_type": "stream",
     "name": "stdout",
     "text": "[0.36667619 0.36667619 0.36667619] [0.39841515 0.39841515 0.39841515]\n"
    }
   ],
   "metadata": {},
   "execution_count": 158
  },
  {
   "source": [
    "dJdW1, dJdW2, dJdB2, dJdB1 = model.costFunctionPrime(X, y)\n",
    "model.W1 = model.W1 - scalar*dJdW1\n",
    "model.W2 = model.W2 - scalar*dJdW2\n",
    "model.B1 = model.B1 - scalar*dJdB1\n",
    "model.B2 = model.B2 - scalar*dJdB2\n",
    "cost3 = model.costFunction(X, y)"
   ],
   "cell_type": "code",
   "outputs": [],
   "metadata": {},
   "execution_count": 168
  },
  {
   "source": [
    "print(cost2, cost3)"
   ],
   "cell_type": "code",
   "outputs": [
    {
     "output_type": "stream",
     "name": "stdout",
     "text": "[0.39841515 0.39841515 0.39841515] [0.34344466 0.34344466 0.34344466]\n"
    }
   ],
   "metadata": {},
   "execution_count": 169
  },
  {
   "source": [
    "print(\"Before:\", cost1)\n",
    "model.tuneParams(X, y)\n",
    "cost4 = model.costFunction(X, y)\n",
    "print(\"After:\", cost4)"
   ],
   "cell_type": "code",
   "outputs": [
    {
     "output_type": "stream",
     "name": "stdout",
     "text": "Before: [0.37734071 0.37734071 0.37734071]\nAfter: [0.36667614 0.36667614 0.36667614]\n"
    }
   ],
   "metadata": {},
   "execution_count": 190
  },
  {
   "cell_type": "code",
   "execution_count": null,
   "metadata": {},
   "outputs": [],
   "source": []
  }
 ]
}