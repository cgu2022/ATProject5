{
 "nbformat": 4,
 "nbformat_minor": 2,
 "metadata": {
  "language_info": {
   "name": "python",
   "codemirror_mode": {
    "name": "ipython",
    "version": 3
   },
   "version": "3.7.4-final"
  },
  "orig_nbformat": 2,
  "file_extension": ".py",
  "mimetype": "text/x-python",
  "name": "python",
  "npconvert_exporter": "python",
  "pygments_lexer": "ipython3",
  "version": 3,
  "kernelspec": {
   "name": "python37464bit35d7a11e2e4c46fa9a25217bb1d0a4e1",
   "display_name": "Python 3.7.4 64-bit"
  }
 },
 "cells": [
  {
   "source": [
    "import numpy as np\n",
    "# from NeuralNetwork2 import Model2\n",
    "\n",
    "#X = np.array([[0.05], [0.1]], dtype=float) # 2, 3\n",
    "X = np.array(([[0.05, 0.05, 0.05], [0.1, 0.1, 0.1]]), dtype=float) # 2, 3\n",
    "y = np.array([[0.01, 0.01, 0.01], [0.99, 0.99, 0.99]], dtype=float) # 2, 3\n",
    "\n"
   ],
   "cell_type": "code",
   "outputs": [],
   "metadata": {},
   "execution_count": 46
  },
  {
   "source": [
    "class Model2:\n",
    "\n",
    "    def __init__(self):\n",
    "        # Weights (Parameters)\n",
    "        #self.W1 = np.array([[0.1498, 0.2995], [0.1997, 0.3494], [0.2497, 0.3993]], dtype=float)\n",
    "        #self.W2 = np.array([[0.4702, 0.5701, 0.6700], [0.5535, 0.6535, 0.7535]], dtype=float)\n",
    "        self.W1 = np.array(([[0.15, 0.3], [0.2, 0.35], [0.25, 0.4]]), dtype=float)\n",
    "        self.W2 = np.array(([[0.5, 0.6, 0.7], [0.55, 0.65, 0.75]]), dtype=float)\n",
    "\n",
    "        # Biases\n",
    "        # self.B1 = [[0.4451], [0.4441], [0.4431]] # Length should be number of columns of X\n",
    "        # self.B2 = [[0.7519], [0.8056]]\n",
    "        self.B1 = [[0.45], [0.45], [0.45]] # Length should be number of columns of X\n",
    "        self.B2 = [[0.8], [0.8]]\n",
    "\n",
    "    def sigmoid(self, z):\n",
    "            return 1/(1+np.exp(-z))\n",
    "    \n",
    "    def sigmoidPrime(self, z):\n",
    "        # Derivative of Sigmoid Function\n",
    "        return np.exp(-z)/((1+np.exp(-z))**2)\n",
    "\n",
    "    def relu(self, z):\n",
    "        return np.maximum(0, z)\n",
    "    \n",
    "    def forward(self, X):\n",
    "        # Propogate inputs through networks\n",
    "        self.a1 = X # Just for formality sake\n",
    "        self.z2 = np.dot(self.W1, X) + self.B1\n",
    "        self.a2 = self.sigmoid(self.z2)\n",
    "        self.z3 = np.dot(self.W2, self.a2) + self.B2\n",
    "        self.a3 = self.sigmoid(self.z3)\n",
    "        yHat = self.a3\n",
    "        return yHat\n",
    "\n",
    "    def costFunction(self, X, y):\n",
    "        # Compute cost using the weights already stored\n",
    "        self.yHat = self.forward(X)\n",
    "        J = 0.5*sum((y-self.yHat)**2)\n",
    "        return J\n",
    "    \n",
    "    def costFunctionPrime(self, X, y):\n",
    "        # Computes partial derivatives of Cost function\n",
    "        self.yHat = self.forward(X)\n",
    "\n",
    "        delta3 = np.multiply(-(y-self.yHat), self.sigmoidPrime(self.z3))\n",
    "        print(\"Delta3:\\n\", delta3)\n",
    "        dJdW2 = np.dot(delta3, self.a2.T)\n",
    "        dJdB2 = delta3.sum(axis=1).reshape(delta3.shape[0],1)\n",
    "\n",
    "        delta2 = np.multiply(np.dot(self.W2.T, delta3), self.sigmoidPrime(self.z2)) \n",
    "        print(\"Delta2:\\n\", delta2) \n",
    "        dJdW1 = np.dot(delta2, X.T)\n",
    "        dJdB1 = delta2.sum(axis=1).reshape(delta2.shape[0],1)\n",
    "\n",
    "        return dJdW1, dJdW2, dJdB2, dJdB1\n",
    "    \n",
    "    def tuneParams(self, X, y, learning_rate=0.5):  \n",
    "        dJdW1, dJdW2, dJdB2, dJdB1 = self.costFunctionPrime(X, y)\n",
    "        scalar = learning_rate/X.shape[1]\n",
    "        model.W1 = model.W1 - scalar*dJdW1\n",
    "        model.W2 = model.W2 - scalar*dJdW2\n",
    "        model.B1 = model.B1 - scalar*dJdB1\n",
    "        model.B2 = model.B2 - scalar*dJdB2\n"
   ],
   "cell_type": "code",
   "outputs": [],
   "metadata": {},
   "execution_count": 47
  },
  {
   "source": [
    "model = Model2()"
   ],
   "cell_type": "code",
   "outputs": [],
   "metadata": {},
   "execution_count": 48
  },
  {
   "source": [
    "cost1 = model.costFunction(X, y)\n",
    "print(cost1) # Cost with Initial Values"
   ],
   "cell_type": "code",
   "outputs": [
    {
     "output_type": "stream",
     "name": "stdout",
     "text": "[0.37734071 0.37734071 0.37734071]\n"
    }
   ],
   "metadata": {},
   "execution_count": 49
  },
  {
   "source": [
    "dJdW1, dJdW2, dJdB2, dJdB1 = model.costFunctionPrime(X, y) # Calaculated Derivatives\n",
    "print(\"dW2:\\n\", dJdW2)\n",
    "print(\"dW1:\\n\", dJdW1)\n",
    "print(\"dB2:\\n\", dJdB2)\n",
    "print(\"dB1:\\n\", dJdB1)\n"
   ],
   "cell_type": "code",
   "outputs": [
    {
     "output_type": "stream",
     "name": "stdout",
     "text": "Delta3:\n [[ 0.09621877  0.09621877  0.09621877]\n [-0.01123348 -0.01123348 -0.01123348]]\nDelta2:\n [[0.00988378 0.00988378 0.00988378]\n [0.01186557 0.01186557 0.01186557]\n [0.01383981 0.01383981 0.01383981]]\ndW2:\n [[ 0.17882758  0.17933743  0.17984634]\n [-0.02087801 -0.02093753 -0.02099695]]\ndW1:\n [[0.00148257 0.00296514]\n [0.00177984 0.00355967]\n [0.00207597 0.00415194]]\ndB2:\n [[ 0.2886563 ]\n [-0.03370045]]\ndB1:\n [[0.02965135]\n [0.03559671]\n [0.04151942]]\n"
    }
   ],
   "metadata": {},
   "execution_count": 50
  },
  {
   "source": [
    "print(\"Before:\", cost1) # Before and After-tuning comparison\n",
    "model.tuneParams(X, y)\n",
    "cost4 = model.costFunction(X, y)\n",
    "print(\"After:\", cost4)"
   ],
   "cell_type": "code",
   "outputs": [
    {
     "output_type": "stream",
     "name": "stdout",
     "text": "Before: [0.37734071 0.37734071 0.37734071]\nDelta3:\n [[ 0.09621877  0.09621877  0.09621877]\n [-0.01123348 -0.01123348 -0.01123348]]\nDelta2:\n [[0.00988378 0.00988378 0.00988378]\n [0.01186557 0.01186557 0.01186557]\n [0.01383981 0.01383981 0.01383981]]\nAfter: [0.36667614 0.36667614 0.36667614]\n"
    }
   ],
   "metadata": {},
   "execution_count": 51
  },
  {
   "source": [
    "# Adjusted Weights and Biases\n",
    "print(\"W2:\\n\", model.W2)\n",
    "print(\"W1:\\n\", model.W1)\n",
    "print(\"B2:\\n\", model.B2)\n",
    "print(\"B1:\\n\", model.B1)"
   ],
   "cell_type": "code",
   "outputs": [
    {
     "output_type": "stream",
     "name": "stdout",
     "text": "W2:\n [[0.4701954  0.57011043 0.67002561]\n [0.55347967 0.65348959 0.75349949]]\nW1:\n [[0.14975291 0.29950581]\n [0.19970336 0.34940672]\n [0.249654   0.39930801]]\nB2:\n [[0.75189062]\n [0.80561674]]\nB1:\n [[0.44505811]\n [0.44406721]\n [0.4430801 ]]\n"
    }
   ],
   "metadata": {},
   "execution_count": 52
  },
  {
   "source": [
    "scalar = 3 # Increasing along gradient (REMEMBER to divide scalar by amount of data)\n",
    "model.W1 = model.W1 + scalar*dJdW1\n",
    "model.W2 = model.W2 + scalar*dJdW2\n",
    "model.B1 = model.B1 + scalar*dJdB1\n",
    "model.B2 = model.B2 + scalar*dJdB2\n",
    "cost2 = model.costFunction(X,y)"
   ],
   "cell_type": "code",
   "outputs": [],
   "metadata": {},
   "execution_count": 36
  },
  {
   "source": [
    "print(cost1, cost2) # # Moving along gradient will cause cost function to increase"
   ],
   "cell_type": "code",
   "outputs": [
    {
     "output_type": "stream",
     "name": "stdout",
     "text": "[0.37734071 0.37734071 0.37734071] [0.47819614 0.47819614 0.47819614]\n"
    }
   ],
   "metadata": {},
   "execution_count": 37
  },
  {
   "source": [
    "dJdW1, dJdW2, dJdB2, dJdB1 = model.costFunctionPrime(X, y)\n",
    "model.W1 = model.W1 - scalar*dJdW1\n",
    "model.W2 = model.W2 - scalar*dJdW2\n",
    "model.B1 = model.B1 - scalar*dJdB1\n",
    "model.B2 = model.B2 - scalar*dJdB2\n",
    "cost3 = model.costFunction(X, y)"
   ],
   "cell_type": "code",
   "outputs": [
    {
     "output_type": "stream",
     "name": "stdout",
     "text": "Delta3:\n [[ 0.0193362   0.0193362   0.0193362 ]\n [-0.01505974 -0.01505974 -0.01505974]]\nDelta2:\n [[0.00292474 0.00292474 0.00292474]\n [0.0030085  0.0030085  0.0030085 ]\n [0.00309    0.00309    0.00309   ]]\n"
    }
   ],
   "metadata": {},
   "execution_count": 38
  },
  {
   "source": [
    "print(cost2, cost3)"
   ],
   "cell_type": "code",
   "outputs": [
    {
     "output_type": "stream",
     "name": "stdout",
     "text": "[0.47819614 0.47819614 0.47819614] [0.46502878 0.46502878 0.46502878]\n"
    }
   ],
   "metadata": {},
   "execution_count": 39
  },
  {
   "source": [
    "dJdW1"
   ],
   "cell_type": "code",
   "outputs": [
    {
     "output_type": "execute_result",
     "data": {
      "text/plain": "array([[0.00148257, 0.00296514],\n       [0.00177984, 0.00355967],\n       [0.00207597, 0.00415194]])"
     },
     "metadata": {},
     "execution_count": 40
    }
   ],
   "metadata": {},
   "execution_count": 40
  },
  {
   "source": [
    "dJdW2"
   ],
   "cell_type": "code",
   "outputs": [
    {
     "output_type": "execute_result",
     "data": {
      "text/plain": "array([[ 0.17882758,  0.17933743,  0.17984634],\n       [-0.02087801, -0.02093753, -0.02099695]])"
     },
     "metadata": {},
     "execution_count": 44
    }
   ],
   "metadata": {},
   "execution_count": 44
  },
  {
   "source": [
    "model.sigmoidPrime(model.z2)"
   ],
   "cell_type": "code",
   "outputs": [
    {
     "output_type": "execute_result",
     "data": {
      "text/plain": "array([[0.23571561, 0.23571561, 0.23571561],\n       [0.23529029, 0.23529029, 0.23529029],\n       [0.23485952, 0.23485952, 0.23485952]])"
     },
     "metadata": {},
     "execution_count": 30
    }
   ],
   "metadata": {},
   "execution_count": 30
  },
  {
   "source": [
    "model.W2"
   ],
   "cell_type": "code",
   "outputs": [
    {
     "output_type": "execute_result",
     "data": {
      "text/plain": "array([[0.5 , 0.6 , 0.7 ],\n       [0.55, 0.65, 0.75]])"
     },
     "metadata": {},
     "execution_count": 45
    }
   ],
   "metadata": {},
   "execution_count": 45
  },
  {
   "cell_type": "code",
   "execution_count": null,
   "metadata": {},
   "outputs": [],
   "source": []
  }
 ]
}