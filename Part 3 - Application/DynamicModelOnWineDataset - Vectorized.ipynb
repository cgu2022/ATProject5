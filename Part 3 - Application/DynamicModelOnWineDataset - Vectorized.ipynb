{
  "nbformat": 4,
  "nbformat_minor": 0,
  "metadata": {
    "colab": {
      "name": "My own NN on Wine Database.ipynb",
      "provenance": [],
      "collapsed_sections": []
    },
    "kernelspec": {
      "display_name": "Python 3",
      "name": "python3"
    }
  },
  "cells": [
    {
      "cell_type": "code",
      "metadata": {
        "colab": {
          "base_uri": "https://localhost:8080/"
        },
        "id": "_eVBo7CUdj7L",
        "outputId": "5887747e-27ae-40cc-b7d3-04d32895199f"
      },
      "source": [
        "%tensorflow_version 2.x  # this line is not required unless you are in google colab\n",
        "# TensorFlow and tf.keras\n",
        "import tensorflow as tf\n",
        "from tensorflow import keras\n",
        "import pandas as pd\n",
        "from sklearn.utils import shuffle\n",
        "\n",
        "# Helper libraries\n",
        "import numpy as np\n",
        "import matplotlib.pyplot as plt"
      ],
      "execution_count": 46,
      "outputs": [
        {
          "output_type": "stream",
          "text": [
            "`%tensorflow_version` only switches the major version: 1.x or 2.x.\n",
            "You set: `2.x  # this line is not required unless you are in google colab`. This will be interpreted as: `2.x`.\n",
            "\n",
            "\n",
            "TensorFlow is already loaded. Please restart the runtime to change versions.\n"
          ],
          "name": "stdout"
        }
      ]
    },
    {
      "cell_type": "code",
      "metadata": {
        "colab": {
          "base_uri": "https://localhost:8080/",
          "height": 343
        },
        "id": "oxnmJlsDdtDX",
        "outputId": "3bfed947-8793-4dc6-8fca-33d79a9430b2"
      },
      "source": [
        "# Formatting\n",
        "df=pd.read_csv('Wine.csv',header=None)\n",
        "df.columns = [  'name'\n",
        "                 ,'alcohol'\n",
        "             \t,'malicAcid'\n",
        "             \t,'ash'\n",
        "            \t,'ashalcalinity'\n",
        "             \t,'magnesium'\n",
        "            \t,'totalPhenols'\n",
        "             \t,'flavanoids'\n",
        "             \t,'nonFlavanoidPhenols'\n",
        "             \t,'proanthocyanins'\n",
        "            \t,'colorIntensity'\n",
        "             \t,'hue'\n",
        "             \t,'od280_od315'\n",
        "             \t,'proline'\n",
        "                ]\n",
        "X= df.drop(['name','ash'], axis=1)"
      ],
      "execution_count": 47,
      "outputs": [
        {
          "output_type": "error",
          "ename": "KeyError",
          "evalue": "ignored",
          "traceback": [
            "\u001b[0;31m---------------------------------------------------------------------------\u001b[0m",
            "\u001b[0;31mKeyError\u001b[0m                                  Traceback (most recent call last)",
            "\u001b[0;32m<ipython-input-47-ff37101967b1>\u001b[0m in \u001b[0;36m<module>\u001b[0;34m()\u001b[0m\n\u001b[1;32m     16\u001b[0m                 \u001b[0;34m,\u001b[0m\u001b[0;34m'proline'\u001b[0m\u001b[0;34m\u001b[0m\u001b[0;34m\u001b[0m\u001b[0m\n\u001b[1;32m     17\u001b[0m                 ]'''\n\u001b[0;32m---> 18\u001b[0;31m \u001b[0mX\u001b[0m\u001b[0;34m=\u001b[0m \u001b[0mdf\u001b[0m\u001b[0;34m.\u001b[0m\u001b[0mdrop\u001b[0m\u001b[0;34m(\u001b[0m\u001b[0;34m[\u001b[0m\u001b[0;34m'name'\u001b[0m\u001b[0;34m,\u001b[0m\u001b[0;34m'ash'\u001b[0m\u001b[0;34m]\u001b[0m\u001b[0;34m,\u001b[0m \u001b[0maxis\u001b[0m\u001b[0;34m=\u001b[0m\u001b[0;36m1\u001b[0m\u001b[0;34m)\u001b[0m\u001b[0;34m\u001b[0m\u001b[0;34m\u001b[0m\u001b[0m\n\u001b[0m",
            "\u001b[0;32m/usr/local/lib/python3.6/dist-packages/pandas/core/frame.py\u001b[0m in \u001b[0;36mdrop\u001b[0;34m(self, labels, axis, index, columns, level, inplace, errors)\u001b[0m\n\u001b[1;32m   4172\u001b[0m             \u001b[0mlevel\u001b[0m\u001b[0;34m=\u001b[0m\u001b[0mlevel\u001b[0m\u001b[0;34m,\u001b[0m\u001b[0;34m\u001b[0m\u001b[0;34m\u001b[0m\u001b[0m\n\u001b[1;32m   4173\u001b[0m             \u001b[0minplace\u001b[0m\u001b[0;34m=\u001b[0m\u001b[0minplace\u001b[0m\u001b[0;34m,\u001b[0m\u001b[0;34m\u001b[0m\u001b[0;34m\u001b[0m\u001b[0m\n\u001b[0;32m-> 4174\u001b[0;31m             \u001b[0merrors\u001b[0m\u001b[0;34m=\u001b[0m\u001b[0merrors\u001b[0m\u001b[0;34m,\u001b[0m\u001b[0;34m\u001b[0m\u001b[0;34m\u001b[0m\u001b[0m\n\u001b[0m\u001b[1;32m   4175\u001b[0m         )\n\u001b[1;32m   4176\u001b[0m \u001b[0;34m\u001b[0m\u001b[0m\n",
            "\u001b[0;32m/usr/local/lib/python3.6/dist-packages/pandas/core/generic.py\u001b[0m in \u001b[0;36mdrop\u001b[0;34m(self, labels, axis, index, columns, level, inplace, errors)\u001b[0m\n\u001b[1;32m   3887\u001b[0m         \u001b[0;32mfor\u001b[0m \u001b[0maxis\u001b[0m\u001b[0;34m,\u001b[0m \u001b[0mlabels\u001b[0m \u001b[0;32min\u001b[0m \u001b[0maxes\u001b[0m\u001b[0;34m.\u001b[0m\u001b[0mitems\u001b[0m\u001b[0;34m(\u001b[0m\u001b[0;34m)\u001b[0m\u001b[0;34m:\u001b[0m\u001b[0;34m\u001b[0m\u001b[0;34m\u001b[0m\u001b[0m\n\u001b[1;32m   3888\u001b[0m             \u001b[0;32mif\u001b[0m \u001b[0mlabels\u001b[0m \u001b[0;32mis\u001b[0m \u001b[0;32mnot\u001b[0m \u001b[0;32mNone\u001b[0m\u001b[0;34m:\u001b[0m\u001b[0;34m\u001b[0m\u001b[0;34m\u001b[0m\u001b[0m\n\u001b[0;32m-> 3889\u001b[0;31m                 \u001b[0mobj\u001b[0m \u001b[0;34m=\u001b[0m \u001b[0mobj\u001b[0m\u001b[0;34m.\u001b[0m\u001b[0m_drop_axis\u001b[0m\u001b[0;34m(\u001b[0m\u001b[0mlabels\u001b[0m\u001b[0;34m,\u001b[0m \u001b[0maxis\u001b[0m\u001b[0;34m,\u001b[0m \u001b[0mlevel\u001b[0m\u001b[0;34m=\u001b[0m\u001b[0mlevel\u001b[0m\u001b[0;34m,\u001b[0m \u001b[0merrors\u001b[0m\u001b[0;34m=\u001b[0m\u001b[0merrors\u001b[0m\u001b[0;34m)\u001b[0m\u001b[0;34m\u001b[0m\u001b[0;34m\u001b[0m\u001b[0m\n\u001b[0m\u001b[1;32m   3890\u001b[0m \u001b[0;34m\u001b[0m\u001b[0m\n\u001b[1;32m   3891\u001b[0m         \u001b[0;32mif\u001b[0m \u001b[0minplace\u001b[0m\u001b[0;34m:\u001b[0m\u001b[0;34m\u001b[0m\u001b[0;34m\u001b[0m\u001b[0m\n",
            "\u001b[0;32m/usr/local/lib/python3.6/dist-packages/pandas/core/generic.py\u001b[0m in \u001b[0;36m_drop_axis\u001b[0;34m(self, labels, axis, level, errors)\u001b[0m\n\u001b[1;32m   3921\u001b[0m                 \u001b[0mnew_axis\u001b[0m \u001b[0;34m=\u001b[0m \u001b[0maxis\u001b[0m\u001b[0;34m.\u001b[0m\u001b[0mdrop\u001b[0m\u001b[0;34m(\u001b[0m\u001b[0mlabels\u001b[0m\u001b[0;34m,\u001b[0m \u001b[0mlevel\u001b[0m\u001b[0;34m=\u001b[0m\u001b[0mlevel\u001b[0m\u001b[0;34m,\u001b[0m \u001b[0merrors\u001b[0m\u001b[0;34m=\u001b[0m\u001b[0merrors\u001b[0m\u001b[0;34m)\u001b[0m\u001b[0;34m\u001b[0m\u001b[0;34m\u001b[0m\u001b[0m\n\u001b[1;32m   3922\u001b[0m             \u001b[0;32melse\u001b[0m\u001b[0;34m:\u001b[0m\u001b[0;34m\u001b[0m\u001b[0;34m\u001b[0m\u001b[0m\n\u001b[0;32m-> 3923\u001b[0;31m                 \u001b[0mnew_axis\u001b[0m \u001b[0;34m=\u001b[0m \u001b[0maxis\u001b[0m\u001b[0;34m.\u001b[0m\u001b[0mdrop\u001b[0m\u001b[0;34m(\u001b[0m\u001b[0mlabels\u001b[0m\u001b[0;34m,\u001b[0m \u001b[0merrors\u001b[0m\u001b[0;34m=\u001b[0m\u001b[0merrors\u001b[0m\u001b[0;34m)\u001b[0m\u001b[0;34m\u001b[0m\u001b[0;34m\u001b[0m\u001b[0m\n\u001b[0m\u001b[1;32m   3924\u001b[0m             \u001b[0mresult\u001b[0m \u001b[0;34m=\u001b[0m \u001b[0mself\u001b[0m\u001b[0;34m.\u001b[0m\u001b[0mreindex\u001b[0m\u001b[0;34m(\u001b[0m\u001b[0;34m**\u001b[0m\u001b[0;34m{\u001b[0m\u001b[0maxis_name\u001b[0m\u001b[0;34m:\u001b[0m \u001b[0mnew_axis\u001b[0m\u001b[0;34m}\u001b[0m\u001b[0;34m)\u001b[0m\u001b[0;34m\u001b[0m\u001b[0;34m\u001b[0m\u001b[0m\n\u001b[1;32m   3925\u001b[0m \u001b[0;34m\u001b[0m\u001b[0m\n",
            "\u001b[0;32m/usr/local/lib/python3.6/dist-packages/pandas/core/indexes/base.py\u001b[0m in \u001b[0;36mdrop\u001b[0;34m(self, labels, errors)\u001b[0m\n\u001b[1;32m   5285\u001b[0m         \u001b[0;32mif\u001b[0m \u001b[0mmask\u001b[0m\u001b[0;34m.\u001b[0m\u001b[0many\u001b[0m\u001b[0;34m(\u001b[0m\u001b[0;34m)\u001b[0m\u001b[0;34m:\u001b[0m\u001b[0;34m\u001b[0m\u001b[0;34m\u001b[0m\u001b[0m\n\u001b[1;32m   5286\u001b[0m             \u001b[0;32mif\u001b[0m \u001b[0merrors\u001b[0m \u001b[0;34m!=\u001b[0m \u001b[0;34m\"ignore\"\u001b[0m\u001b[0;34m:\u001b[0m\u001b[0;34m\u001b[0m\u001b[0;34m\u001b[0m\u001b[0m\n\u001b[0;32m-> 5287\u001b[0;31m                 \u001b[0;32mraise\u001b[0m \u001b[0mKeyError\u001b[0m\u001b[0;34m(\u001b[0m\u001b[0;34mf\"{labels[mask]} not found in axis\"\u001b[0m\u001b[0;34m)\u001b[0m\u001b[0;34m\u001b[0m\u001b[0;34m\u001b[0m\u001b[0m\n\u001b[0m\u001b[1;32m   5288\u001b[0m             \u001b[0mindexer\u001b[0m \u001b[0;34m=\u001b[0m \u001b[0mindexer\u001b[0m\u001b[0;34m[\u001b[0m\u001b[0;34m~\u001b[0m\u001b[0mmask\u001b[0m\u001b[0;34m]\u001b[0m\u001b[0;34m\u001b[0m\u001b[0;34m\u001b[0m\u001b[0m\n\u001b[1;32m   5289\u001b[0m         \u001b[0;32mreturn\u001b[0m \u001b[0mself\u001b[0m\u001b[0;34m.\u001b[0m\u001b[0mdelete\u001b[0m\u001b[0;34m(\u001b[0m\u001b[0mindexer\u001b[0m\u001b[0;34m)\u001b[0m\u001b[0;34m\u001b[0m\u001b[0;34m\u001b[0m\u001b[0m\n",
            "\u001b[0;31mKeyError\u001b[0m: \"['name' 'ash'] not found in axis\""
          ]
        }
      ]
    },
    {
      "cell_type": "code",
      "metadata": {
        "colab": {
          "base_uri": "https://localhost:8080/",
          "height": 110
        },
        "id": "z1Iy87wG9Vfh",
        "outputId": "a916cbad-92c5-4c52-e1c6-aef68454c759"
      },
      "source": [
        "X.head(2)"
      ],
      "execution_count": 14,
      "outputs": [
        {
          "output_type": "execute_result",
          "data": {
            "text/html": [
              "<div>\n",
              "<style scoped>\n",
              "    .dataframe tbody tr th:only-of-type {\n",
              "        vertical-align: middle;\n",
              "    }\n",
              "\n",
              "    .dataframe tbody tr th {\n",
              "        vertical-align: top;\n",
              "    }\n",
              "\n",
              "    .dataframe thead th {\n",
              "        text-align: right;\n",
              "    }\n",
              "</style>\n",
              "<table border=\"1\" class=\"dataframe\">\n",
              "  <thead>\n",
              "    <tr style=\"text-align: right;\">\n",
              "      <th></th>\n",
              "      <th>alcohol</th>\n",
              "      <th>malicAcid</th>\n",
              "      <th>ashalcalinity</th>\n",
              "      <th>magnesium</th>\n",
              "      <th>totalPhenols</th>\n",
              "      <th>flavanoids</th>\n",
              "      <th>nonFlavanoidPhenols</th>\n",
              "      <th>proanthocyanins</th>\n",
              "      <th>colorIntensity</th>\n",
              "      <th>hue</th>\n",
              "      <th>od280_od315</th>\n",
              "      <th>proline</th>\n",
              "    </tr>\n",
              "  </thead>\n",
              "  <tbody>\n",
              "    <tr>\n",
              "      <th>0</th>\n",
              "      <td>14.23</td>\n",
              "      <td>1.71</td>\n",
              "      <td>15.6</td>\n",
              "      <td>127</td>\n",
              "      <td>2.80</td>\n",
              "      <td>3.06</td>\n",
              "      <td>0.28</td>\n",
              "      <td>2.29</td>\n",
              "      <td>5.64</td>\n",
              "      <td>1.04</td>\n",
              "      <td>3.92</td>\n",
              "      <td>1065</td>\n",
              "    </tr>\n",
              "    <tr>\n",
              "      <th>1</th>\n",
              "      <td>13.20</td>\n",
              "      <td>1.78</td>\n",
              "      <td>11.2</td>\n",
              "      <td>100</td>\n",
              "      <td>2.65</td>\n",
              "      <td>2.76</td>\n",
              "      <td>0.26</td>\n",
              "      <td>1.28</td>\n",
              "      <td>4.38</td>\n",
              "      <td>1.05</td>\n",
              "      <td>3.40</td>\n",
              "      <td>1050</td>\n",
              "    </tr>\n",
              "  </tbody>\n",
              "</table>\n",
              "</div>"
            ],
            "text/plain": [
              "   alcohol  malicAcid  ashalcalinity  ...   hue  od280_od315  proline\n",
              "0    14.23       1.71           15.6  ...  1.04         3.92     1065\n",
              "1    13.20       1.78           11.2  ...  1.05         3.40     1050\n",
              "\n",
              "[2 rows x 12 columns]"
            ]
          },
          "metadata": {
            "tags": []
          },
          "execution_count": 14
        }
      ]
    },
    {
      "cell_type": "code",
      "metadata": {
        "colab": {
          "base_uri": "https://localhost:8080/",
          "height": 110
        },
        "id": "t-fbCq1cds7Q",
        "outputId": "2be2dcc9-e355-4fed-bc87-b98411fbe34d"
      },
      "source": [
        "Y=df.iloc[:,:1]\r\n",
        "Y.head(2)"
      ],
      "execution_count": 15,
      "outputs": [
        {
          "output_type": "execute_result",
          "data": {
            "text/html": [
              "<div>\n",
              "<style scoped>\n",
              "    .dataframe tbody tr th:only-of-type {\n",
              "        vertical-align: middle;\n",
              "    }\n",
              "\n",
              "    .dataframe tbody tr th {\n",
              "        vertical-align: top;\n",
              "    }\n",
              "\n",
              "    .dataframe thead th {\n",
              "        text-align: right;\n",
              "    }\n",
              "</style>\n",
              "<table border=\"1\" class=\"dataframe\">\n",
              "  <thead>\n",
              "    <tr style=\"text-align: right;\">\n",
              "      <th></th>\n",
              "      <th>name</th>\n",
              "    </tr>\n",
              "  </thead>\n",
              "  <tbody>\n",
              "    <tr>\n",
              "      <th>0</th>\n",
              "      <td>1</td>\n",
              "    </tr>\n",
              "    <tr>\n",
              "      <th>1</th>\n",
              "      <td>1</td>\n",
              "    </tr>\n",
              "  </tbody>\n",
              "</table>\n",
              "</div>"
            ],
            "text/plain": [
              "   name\n",
              "0     1\n",
              "1     1"
            ]
          },
          "metadata": {
            "tags": []
          },
          "execution_count": 15
        }
      ]
    },
    {
      "cell_type": "code",
      "metadata": {
        "colab": {
          "base_uri": "https://localhost:8080/"
        },
        "id": "wuHZ9WU19ijW",
        "outputId": "146d95e3-fba4-4a45-b3ed-5b536d073d89"
      },
      "source": [
        "from sklearn.model_selection import train_test_split\r\n",
        "X_train, X_test, Y_train, Y_test = train_test_split(X, Y, test_size=0.3, random_state=0)\r\n",
        "\r\n",
        "print(X_train.shape)\r\n",
        "print(X_test.shape)"
      ],
      "execution_count": 16,
      "outputs": [
        {
          "output_type": "stream",
          "text": [
            "(124, 12)\n",
            "(54, 12)\n"
          ],
          "name": "stdout"
        }
      ]
    },
    {
      "cell_type": "code",
      "metadata": {
        "id": "UbNFo-e6fWl6"
      },
      "source": [
        "#VECTORIZED VERSION\n",
        "@np.vectorize\n",
        "def sigmoid(z):\n",
        "    if z >= 0:\n",
        "      return 1.0 / (1.0 + np.e**(-z))\n",
        "    else:\n",
        "      return np.e**(z) / (1 + np.e**(z))\n",
        "\n",
        "@np.vectorize\n",
        "def sigmoidPrime(z):\n",
        "    # Derivative of Sigmoid Function\n",
        "      return sigmoid(z) * (1-sigmoid(z))\n",
        "\n",
        "class Model3:\n",
        "    def __init__(self, model_structure=[2, 3, 2], modelActivationFunctions=[\"sigmoid\", \"sigmoid\"], sig=None, sigPrime=None):\n",
        "        self.model_structure = model_structure\n",
        "        self.modelActivationFunctions = modelActivationFunctions\n",
        "        self.modelWidth = len(model_structure)\n",
        "\n",
        "        self.sigmoid = sig\n",
        "        self.sigmoidPrime = sigPrime\n",
        "\n",
        "        # Safety Check to make sure model structure is legitimate\n",
        "        if self.modelWidth<3 or self.modelWidth-1!=len(self.modelActivationFunctions):\n",
        "            print(\"Model Structure Error!\")\n",
        "            exit(1)  \n",
        "\n",
        "        # Weights (Parameters) - Randomly Assigned\n",
        "        self.weights = list()\n",
        "        self.weights.append(np.random.randn(self.model_structure[1],self.model_structure[0])) # Input Layer Weights\n",
        "        for i in range(1, self.modelWidth-1):\n",
        "            self.weights.append(np.random.randn(self.model_structure[i+1], self.model_structure[i]))\n",
        "\n",
        "        # Biases - Randomly Assigned\n",
        "        self.biases = list()\n",
        "        for i in range(1, self.modelWidth):\n",
        "            self.biases.append(np.random.randn(self.model_structure[i], 1))  # Length should be number of columns of X\n",
        "        '''self.weights = [np.array(([[0.15, 0.3], [0.2, 0.35], [0.25, 0.4]]), dtype=float), np.array(([[0.5, 0.6, 0.7], [0.55, 0.65, 0.75]]), dtype=float)]\n",
        "        self.biases = [[[0.45], [0.45], [0.45]], [[0.8], [0.8]]]'''\n",
        "    \n",
        "    def softmax(self, x):\n",
        "        return np.exp(x) / np.sum(np.exp(x), axis=0)\n",
        "    '''\n",
        "    def softmax(z):\n",
        "        z -= np.max(z)\n",
        "        sm = (np.exp(z).T / np.sum(np.exp(z), axis=0)).T\n",
        "        return sm\n",
        "    '''\n",
        "    def softmaxPrime(self, z):\n",
        "        z -= np.max(z)\n",
        "        sm = (np.exp(z).T / np.sum(np.exp(z), axis=0)).T\n",
        "        s = sm.reshape(-1,1)# Reshape the 1-d softmax to 2-d so that np.dot will do the matrix multiplication\n",
        "        return np.diagflat(s) - np.dot(s, s.T)\n",
        "\n",
        "    def relu(self, z):\n",
        "        return np.maximum(0, z)\n",
        "    \n",
        "    def reluPrime(self, x):\n",
        "        x[x<=0] = 0\n",
        "        x[x>0] = 1\n",
        "        return x\n",
        "    \n",
        "    def applyActivationFunction(self, values, activation):\n",
        "        if activation=='sigmoid':\n",
        "            return self.sigmoid(values)\n",
        "        elif activation=='softmax':\n",
        "            return self.softmax(values)\n",
        "        elif activation=='relu':\n",
        "            return self.relu(values)\n",
        "        else:\n",
        "            print(\"Unknown Activation Function! Got:\", activation)\n",
        "            exit(1)\n",
        "    \n",
        "    def applyActivationFunctionPrime(self, values, activation):\n",
        "        if activation=='sigmoid':\n",
        "            return self.sigmoidPrime(values)\n",
        "        elif activation=='softmax':\n",
        "            return self.softmaxPrime(values)\n",
        "        elif activation=='relu':\n",
        "            return self.reluPrime(values)\n",
        "        else:\n",
        "            print(\"Unknown Activation Function! Got:\", activation)\n",
        "            exit(1)\n",
        "\n",
        "    def forward(self, X):\n",
        "        # Propogate inputs through networks\n",
        "        self.aValues = list()\n",
        "        self.zValues = list()\n",
        "        self.aValues.append(X) # First a value = input values\n",
        "        for i in range(0, len(self.weights)):\n",
        "            self.zValues.append(np.dot(self.weights[i], self.aValues[i]) + self.biases[i])\n",
        "            self.aValues.append(self.applyActivationFunction(self.zValues[i], self.modelActivationFunctions[i]))\n",
        "        yHat = self.aValues[-1]\n",
        "        return yHat\n",
        "\n",
        "    def costFunction(self, X, y):\n",
        "        # Compute cost using the weights already stored\n",
        "        self.yHat = self.forward(X)\n",
        "        J = 0.5*sum((y-self.yHat)**2)\n",
        "        return J\n",
        "    \n",
        "    def costFunctionPrime(self, X, y):\n",
        "        # Computes partial derivatives of Cost function with respect to weights & biases\n",
        "        self.yHat = self.forward(X)\n",
        "        \n",
        "        weightDerivatives = list() # Derivative of Cost function with respect to weights\n",
        "        biasDerivatives = list() # Derivative of Cost function with respect to biases\n",
        "\n",
        "        # Last Layer derivatives\n",
        "        delta = np.multiply(-(y-self.aValues[-1]), self.sigmoidPrime(self.zValues[-1]))\n",
        "        weightDerivatives.insert(0, np.dot(delta, self.aValues[-2].T))\n",
        "        biasDerivatives.insert(0, delta.sum(axis=1).reshape(delta.shape[0],1)) \n",
        "        \n",
        "        # Derivatives for the other layers (L-1, L-2, ...)\n",
        "        for i in range(self.modelWidth-2, 0, -1):\n",
        "            delta = np.multiply(np.dot(self.weights[i].T, delta), self.applyActivationFunctionPrime(self.zValues[i-1], self.modelActivationFunctions[i])) \n",
        "            weightDerivatives.insert(0, np.dot(delta, self.aValues[i-1].T))\n",
        "            biasDerivatives.insert(0, delta.sum(axis=1).reshape(delta.shape[0],1))\n",
        "\n",
        "        return weightDerivatives, biasDerivatives\n",
        "    \n",
        "    def tuneParams(self, X, y, learning_rate=0.5, getLoss=False):\n",
        "        # Get Derivatives of Weights & Biases, and then adjust weights/biases with learning rate*derivatives\n",
        "        # getLoss: if you want to calculate loss (before adjusting weights)\n",
        "        self.weightDerivatives, self.biasDerivatives = self.costFunctionPrime(X, y)\n",
        "        \n",
        "        loss = None\n",
        "        if getLoss:\n",
        "           loss = ((y-self.yHat)**2)/2\n",
        "           # print(X.shape)\n",
        "           loss = loss.sum()/X.shape[1]\n",
        "\n",
        "        scalar = learning_rate # learning rate divided by number of samples\n",
        "        for i in range(0, len(self.weights)):\n",
        "            self.weights[i] = self.weights[i] - (scalar*self.weightDerivatives[i] / X.shape[1])\n",
        "            self.biases[i] = self.biases[i] - (scalar*self.biasDerivatives[i] / X.shape[1])\n",
        "        \n",
        "        return loss\n",
        "    \n",
        "    def one_hot_encoder(self, expected):\n",
        "        # formats label into array of zeros except for the index of the correct prediction\n",
        "        #expected = expected.to_numpy()\n",
        "        expected = expected.reshape(expected.shape[0],)\n",
        "        b = np.zeros((expected.size, int(expected.max()+1)))\n",
        "        b[np.arange(expected.size), expected] = 1\n",
        "        return b.T\n",
        "\n",
        "    def fit(self, X, y, TestDataX=None, TestDatay=None, learning_rate=0.5, epochs=10, batch_size=32, flatten=False, stagger=True):\n",
        "        # X: Training Data\n",
        "        # y: Labels for Training Data\n",
        "        # TestingDataX: Testing Data (if staggering)\n",
        "        # TestingDatay: Labels for Testing Data (if staggering)\n",
        "        # learning_rate: rate at which to update the weights with their derivatives\n",
        "        # epochs: number of \"runs\" to execute. Each run is going through the entire dataset once\n",
        "        # batch_size: number of samples to go through before tuning parameters\n",
        "        # Flatten: if each sample of the test data needs to be flatten (like if each sample is an image)\n",
        "        # Stagger: if to test model after every epoch\n",
        "\n",
        "        if X.shape[0] % batch_size != 0:\n",
        "          print(\"# of training samples isn't divisible by entered batch size!\")\n",
        "          exit(1)\n",
        "        \n",
        "        if stagger and ((TestDataX is None) or (TestDatay is None)):\n",
        "          print(\"You can't stagger when you don't pass in testing data and/or it's labels!\")\n",
        "          exit(1)\n",
        "\n",
        "        if flatten:\n",
        "          inputNumber = 1\n",
        "          #print(X.shape)\n",
        "          for i in range(1, len(X.shape)):\n",
        "            inputNumber*=X.shape[i]\n",
        "          X = X.reshape(X.shape[0], inputNumber)\n",
        "          #print(X.shape)\n",
        "          TestDataX = TestDataX.reshape(TestDataX.shape[0], inputNumber)\n",
        "        \n",
        "        y_formatted = self.one_hot_encoder(TestDatay)\n",
        "        loss_list_average = list() # Keeps all the average losses from each epoch\n",
        "        train_accuracies = list() # Keeps all the training accuracies from each epoch (which is apparently: (1-averageLoss))\n",
        "        test_accuracies = list() # Keeps all the testing accuracies from each epoch\n",
        "        for i in range(1, epochs+1):\n",
        "          print(\"Epoch:\", i)\n",
        "          loss_list = list() # This is for keeping all the losses from each batch in the epoch; used to calculate lost_list_average\n",
        "          for j in range(1, int(X.shape[0]/batch_size)+1): # Going through each batch\n",
        "            if j % int((int(X.shape[0]/batch_size))) == 0:\n",
        "              print(\"Iteration:\", j)\n",
        "            # Slice appropriate batch sizes\n",
        "            X_batch = X[(j-1)*batch_size : j*batch_size].T #'''Why do we need to transpose here???'''\n",
        "            # print(y_formatted.shape)\n",
        "            y_batch_formatted = y_formatted[:, (j-1)*batch_size : j*batch_size]\n",
        "            # print(y_batch_formatted.shape)\n",
        "            # Training & Getting Loss\n",
        "            loss = self.tuneParams(X_batch, y_batch_formatted, learning_rate, getLoss=True)\n",
        "            # print(\"Loss:\", loss)\n",
        "            loss_list.append(loss)\n",
        "          # print(model.weights)\n",
        "          loss_list_average.append((sum(loss_list)/len(loss_list)))\n",
        "          train_accuracies.append(1 - loss_list_average[i-1])\n",
        "          print(\"Average loss across batches:\", loss_list_average[i-1])\n",
        "          print(\"Training Accuracy:\", train_accuracies[i-1])\n",
        "\n",
        "          if stagger:\n",
        "            outputs = self.forward(TestDataX.T)\n",
        "            # print(outputs.shape)\n",
        "            predictions = list()\n",
        "            outputs = outputs.T\n",
        "            for output in outputs: # Going through output for each sample to format prediction\n",
        "              #print(output)\n",
        "              predictions.append(np.argmax(output))\n",
        "            numberOfCorrect = 0\n",
        "            # print(len(predictions))\n",
        "            # print(TestDatay.shape)\n",
        "            for j in range(0, len(TestDatay)): # Calculating the accruacy\n",
        "              # print(str(j)+\"|\", \"Prediction:\", predictions[j], \"Actual:\", TestDatay[j])\n",
        "              if TestDatay[j] == predictions[j]:\n",
        "                numberOfCorrect+=1\n",
        "            print(\"Number of Correct:\", numberOfCorrect)\n",
        "            print(\"Total Number:\", len(TestDatay))\n",
        "            testAccuracy = numberOfCorrect/len(TestDatay)\n",
        "            print(\"Testing Accuracy:\", testAccuracy)\n",
        "            test_accuracies.append(testAccuracy)\n",
        "          print()\n",
        "          \n",
        "          # Shuffling\n",
        "          # print(X.shape)\n",
        "          # print(y_formatted.shape)\n",
        "          X_shuffled, y_formatted_shuffled = shuffle(X, y_formatted.T, random_state=0)\n",
        "          X = X_shuffled\n",
        "          y_formatted = y_formatted_shuffled.T\n",
        "\n",
        "        return loss_list_average, train_accuracies, test_accuracies\n",
        "        "
      ],
      "execution_count": 37,
      "outputs": []
    },
    {
      "cell_type": "code",
      "metadata": {
        "id": "Q-5fPFyHjceF"
      },
      "source": [
        "model = Model3(model_structure=[12, 144, 2], modelActivationFunctions=['relu', 'sigmoid']) # Another test"
      ],
      "execution_count": 41,
      "outputs": []
    },
    {
      "cell_type": "code",
      "metadata": {
        "colab": {
          "base_uri": "https://localhost:8080/",
          "height": 360
        },
        "id": "ANoD1Xumkkqs",
        "outputId": "645b0de7-dae8-4916-ee4a-b77ec496f5ea"
      },
      "source": [
        "# Training the model\n",
        "\n",
        "X_train, X_test, Y_train, Y_test\n",
        "\n",
        "model.fit(X_train.to_numpy(), Y_train.to_numpy(), X_test.to_numpy(), Y_test.to_numpy(), learning_rate=0.1, epochs=10, batch_size=31, flatten=False, stagger=True)"
      ],
      "execution_count": 48,
      "outputs": [
        {
          "output_type": "stream",
          "text": [
            "Epoch: 1\n"
          ],
          "name": "stdout"
        },
        {
          "output_type": "error",
          "ename": "TypeError",
          "evalue": "ignored",
          "traceback": [
            "\u001b[0;31m---------------------------------------------------------------------------\u001b[0m",
            "\u001b[0;31mTypeError\u001b[0m                                 Traceback (most recent call last)",
            "\u001b[0;32m<ipython-input-48-ea85fb5bac96>\u001b[0m in \u001b[0;36m<module>\u001b[0;34m()\u001b[0m\n\u001b[1;32m      3\u001b[0m \u001b[0mX_train\u001b[0m\u001b[0;34m,\u001b[0m \u001b[0mX_test\u001b[0m\u001b[0;34m,\u001b[0m \u001b[0mY_train\u001b[0m\u001b[0;34m,\u001b[0m \u001b[0mY_test\u001b[0m\u001b[0;34m\u001b[0m\u001b[0;34m\u001b[0m\u001b[0m\n\u001b[1;32m      4\u001b[0m \u001b[0;34m\u001b[0m\u001b[0m\n\u001b[0;32m----> 5\u001b[0;31m \u001b[0mmodel\u001b[0m\u001b[0;34m.\u001b[0m\u001b[0mfit\u001b[0m\u001b[0;34m(\u001b[0m\u001b[0mX_train\u001b[0m\u001b[0;34m.\u001b[0m\u001b[0mto_numpy\u001b[0m\u001b[0;34m(\u001b[0m\u001b[0;34m)\u001b[0m\u001b[0;34m,\u001b[0m \u001b[0mY_train\u001b[0m\u001b[0;34m.\u001b[0m\u001b[0mto_numpy\u001b[0m\u001b[0;34m(\u001b[0m\u001b[0;34m)\u001b[0m\u001b[0;34m,\u001b[0m \u001b[0mX_test\u001b[0m\u001b[0;34m.\u001b[0m\u001b[0mto_numpy\u001b[0m\u001b[0;34m(\u001b[0m\u001b[0;34m)\u001b[0m\u001b[0;34m,\u001b[0m \u001b[0mY_test\u001b[0m\u001b[0;34m.\u001b[0m\u001b[0mto_numpy\u001b[0m\u001b[0;34m(\u001b[0m\u001b[0;34m)\u001b[0m\u001b[0;34m,\u001b[0m \u001b[0mlearning_rate\u001b[0m\u001b[0;34m=\u001b[0m\u001b[0;36m0.1\u001b[0m\u001b[0;34m,\u001b[0m \u001b[0mepochs\u001b[0m\u001b[0;34m=\u001b[0m\u001b[0;36m10\u001b[0m\u001b[0;34m,\u001b[0m \u001b[0mbatch_size\u001b[0m\u001b[0;34m=\u001b[0m\u001b[0;36m31\u001b[0m\u001b[0;34m,\u001b[0m \u001b[0mflatten\u001b[0m\u001b[0;34m=\u001b[0m\u001b[0;32mFalse\u001b[0m\u001b[0;34m,\u001b[0m \u001b[0mstagger\u001b[0m\u001b[0;34m=\u001b[0m\u001b[0;32mTrue\u001b[0m\u001b[0;34m)\u001b[0m\u001b[0;34m\u001b[0m\u001b[0;34m\u001b[0m\u001b[0m\n\u001b[0m",
            "\u001b[0;32m<ipython-input-37-00f843248f1c>\u001b[0m in \u001b[0;36mfit\u001b[0;34m(self, X, y, TestDataX, TestDatay, learning_rate, epochs, batch_size, flatten, stagger)\u001b[0m\n\u001b[1;32m    190\u001b[0m             \u001b[0;31m# print(y_batch_formatted.shape)\u001b[0m\u001b[0;34m\u001b[0m\u001b[0;34m\u001b[0m\u001b[0;34m\u001b[0m\u001b[0m\n\u001b[1;32m    191\u001b[0m             \u001b[0;31m# Training & Getting Loss\u001b[0m\u001b[0;34m\u001b[0m\u001b[0;34m\u001b[0m\u001b[0;34m\u001b[0m\u001b[0m\n\u001b[0;32m--> 192\u001b[0;31m             \u001b[0mloss\u001b[0m \u001b[0;34m=\u001b[0m \u001b[0mself\u001b[0m\u001b[0;34m.\u001b[0m\u001b[0mtuneParams\u001b[0m\u001b[0;34m(\u001b[0m\u001b[0mX_batch\u001b[0m\u001b[0;34m,\u001b[0m \u001b[0my_batch_formatted\u001b[0m\u001b[0;34m,\u001b[0m \u001b[0mlearning_rate\u001b[0m\u001b[0;34m,\u001b[0m \u001b[0mgetLoss\u001b[0m\u001b[0;34m=\u001b[0m\u001b[0;32mTrue\u001b[0m\u001b[0;34m)\u001b[0m\u001b[0;34m\u001b[0m\u001b[0;34m\u001b[0m\u001b[0m\n\u001b[0m\u001b[1;32m    193\u001b[0m             \u001b[0;31m# print(\"Loss:\", loss)\u001b[0m\u001b[0;34m\u001b[0m\u001b[0;34m\u001b[0m\u001b[0;34m\u001b[0m\u001b[0m\n\u001b[1;32m    194\u001b[0m             \u001b[0mloss_list\u001b[0m\u001b[0;34m.\u001b[0m\u001b[0mappend\u001b[0m\u001b[0;34m(\u001b[0m\u001b[0mloss\u001b[0m\u001b[0;34m)\u001b[0m\u001b[0;34m\u001b[0m\u001b[0;34m\u001b[0m\u001b[0m\n",
            "\u001b[0;32m<ipython-input-37-00f843248f1c>\u001b[0m in \u001b[0;36mtuneParams\u001b[0;34m(self, X, y, learning_rate, getLoss)\u001b[0m\n\u001b[1;32m    123\u001b[0m         \u001b[0;31m# Get Derivatives of Weights & Biases, and then adjust weights/biases with learning rate*derivatives\u001b[0m\u001b[0;34m\u001b[0m\u001b[0;34m\u001b[0m\u001b[0;34m\u001b[0m\u001b[0m\n\u001b[1;32m    124\u001b[0m         \u001b[0;31m# getLoss: if you want to calculate loss (before adjusting weights)\u001b[0m\u001b[0;34m\u001b[0m\u001b[0;34m\u001b[0m\u001b[0;34m\u001b[0m\u001b[0m\n\u001b[0;32m--> 125\u001b[0;31m         \u001b[0mself\u001b[0m\u001b[0;34m.\u001b[0m\u001b[0mweightDerivatives\u001b[0m\u001b[0;34m,\u001b[0m \u001b[0mself\u001b[0m\u001b[0;34m.\u001b[0m\u001b[0mbiasDerivatives\u001b[0m \u001b[0;34m=\u001b[0m \u001b[0mself\u001b[0m\u001b[0;34m.\u001b[0m\u001b[0mcostFunctionPrime\u001b[0m\u001b[0;34m(\u001b[0m\u001b[0mX\u001b[0m\u001b[0;34m,\u001b[0m \u001b[0my\u001b[0m\u001b[0;34m)\u001b[0m\u001b[0;34m\u001b[0m\u001b[0;34m\u001b[0m\u001b[0m\n\u001b[0m\u001b[1;32m    126\u001b[0m \u001b[0;34m\u001b[0m\u001b[0m\n\u001b[1;32m    127\u001b[0m         \u001b[0mloss\u001b[0m \u001b[0;34m=\u001b[0m \u001b[0;32mNone\u001b[0m\u001b[0;34m\u001b[0m\u001b[0;34m\u001b[0m\u001b[0m\n",
            "\u001b[0;32m<ipython-input-37-00f843248f1c>\u001b[0m in \u001b[0;36mcostFunctionPrime\u001b[0;34m(self, X, y)\u001b[0m\n\u001b[1;32m    102\u001b[0m     \u001b[0;32mdef\u001b[0m \u001b[0mcostFunctionPrime\u001b[0m\u001b[0;34m(\u001b[0m\u001b[0mself\u001b[0m\u001b[0;34m,\u001b[0m \u001b[0mX\u001b[0m\u001b[0;34m,\u001b[0m \u001b[0my\u001b[0m\u001b[0;34m)\u001b[0m\u001b[0;34m:\u001b[0m\u001b[0;34m\u001b[0m\u001b[0;34m\u001b[0m\u001b[0m\n\u001b[1;32m    103\u001b[0m         \u001b[0;31m# Computes partial derivatives of Cost function with respect to weights & biases\u001b[0m\u001b[0;34m\u001b[0m\u001b[0;34m\u001b[0m\u001b[0;34m\u001b[0m\u001b[0m\n\u001b[0;32m--> 104\u001b[0;31m         \u001b[0mself\u001b[0m\u001b[0;34m.\u001b[0m\u001b[0myHat\u001b[0m \u001b[0;34m=\u001b[0m \u001b[0mself\u001b[0m\u001b[0;34m.\u001b[0m\u001b[0mforward\u001b[0m\u001b[0;34m(\u001b[0m\u001b[0mX\u001b[0m\u001b[0;34m)\u001b[0m\u001b[0;34m\u001b[0m\u001b[0;34m\u001b[0m\u001b[0m\n\u001b[0m\u001b[1;32m    105\u001b[0m \u001b[0;34m\u001b[0m\u001b[0m\n\u001b[1;32m    106\u001b[0m         \u001b[0mweightDerivatives\u001b[0m \u001b[0;34m=\u001b[0m \u001b[0mlist\u001b[0m\u001b[0;34m(\u001b[0m\u001b[0;34m)\u001b[0m \u001b[0;31m# Derivative of Cost function with respect to weights\u001b[0m\u001b[0;34m\u001b[0m\u001b[0;34m\u001b[0m\u001b[0m\n",
            "\u001b[0;32m<ipython-input-37-00f843248f1c>\u001b[0m in \u001b[0;36mforward\u001b[0;34m(self, X)\u001b[0m\n\u001b[1;32m     90\u001b[0m         \u001b[0;32mfor\u001b[0m \u001b[0mi\u001b[0m \u001b[0;32min\u001b[0m \u001b[0mrange\u001b[0m\u001b[0;34m(\u001b[0m\u001b[0;36m0\u001b[0m\u001b[0;34m,\u001b[0m \u001b[0mlen\u001b[0m\u001b[0;34m(\u001b[0m\u001b[0mself\u001b[0m\u001b[0;34m.\u001b[0m\u001b[0mweights\u001b[0m\u001b[0;34m)\u001b[0m\u001b[0;34m)\u001b[0m\u001b[0;34m:\u001b[0m\u001b[0;34m\u001b[0m\u001b[0;34m\u001b[0m\u001b[0m\n\u001b[1;32m     91\u001b[0m             \u001b[0mself\u001b[0m\u001b[0;34m.\u001b[0m\u001b[0mzValues\u001b[0m\u001b[0;34m.\u001b[0m\u001b[0mappend\u001b[0m\u001b[0;34m(\u001b[0m\u001b[0mnp\u001b[0m\u001b[0;34m.\u001b[0m\u001b[0mdot\u001b[0m\u001b[0;34m(\u001b[0m\u001b[0mself\u001b[0m\u001b[0;34m.\u001b[0m\u001b[0mweights\u001b[0m\u001b[0;34m[\u001b[0m\u001b[0mi\u001b[0m\u001b[0;34m]\u001b[0m\u001b[0;34m,\u001b[0m \u001b[0mself\u001b[0m\u001b[0;34m.\u001b[0m\u001b[0maValues\u001b[0m\u001b[0;34m[\u001b[0m\u001b[0mi\u001b[0m\u001b[0;34m]\u001b[0m\u001b[0;34m)\u001b[0m \u001b[0;34m+\u001b[0m \u001b[0mself\u001b[0m\u001b[0;34m.\u001b[0m\u001b[0mbiases\u001b[0m\u001b[0;34m[\u001b[0m\u001b[0mi\u001b[0m\u001b[0;34m]\u001b[0m\u001b[0;34m)\u001b[0m\u001b[0;34m\u001b[0m\u001b[0;34m\u001b[0m\u001b[0m\n\u001b[0;32m---> 92\u001b[0;31m             \u001b[0mself\u001b[0m\u001b[0;34m.\u001b[0m\u001b[0maValues\u001b[0m\u001b[0;34m.\u001b[0m\u001b[0mappend\u001b[0m\u001b[0;34m(\u001b[0m\u001b[0mself\u001b[0m\u001b[0;34m.\u001b[0m\u001b[0mapplyActivationFunction\u001b[0m\u001b[0;34m(\u001b[0m\u001b[0mself\u001b[0m\u001b[0;34m.\u001b[0m\u001b[0mzValues\u001b[0m\u001b[0;34m[\u001b[0m\u001b[0mi\u001b[0m\u001b[0;34m]\u001b[0m\u001b[0;34m,\u001b[0m \u001b[0mself\u001b[0m\u001b[0;34m.\u001b[0m\u001b[0mmodelActivationFunctions\u001b[0m\u001b[0;34m[\u001b[0m\u001b[0mi\u001b[0m\u001b[0;34m]\u001b[0m\u001b[0;34m)\u001b[0m\u001b[0;34m)\u001b[0m\u001b[0;34m\u001b[0m\u001b[0;34m\u001b[0m\u001b[0m\n\u001b[0m\u001b[1;32m     93\u001b[0m         \u001b[0myHat\u001b[0m \u001b[0;34m=\u001b[0m \u001b[0mself\u001b[0m\u001b[0;34m.\u001b[0m\u001b[0maValues\u001b[0m\u001b[0;34m[\u001b[0m\u001b[0;34m-\u001b[0m\u001b[0;36m1\u001b[0m\u001b[0;34m]\u001b[0m\u001b[0;34m\u001b[0m\u001b[0;34m\u001b[0m\u001b[0m\n\u001b[1;32m     94\u001b[0m         \u001b[0;32mreturn\u001b[0m \u001b[0myHat\u001b[0m\u001b[0;34m\u001b[0m\u001b[0;34m\u001b[0m\u001b[0m\n",
            "\u001b[0;32m<ipython-input-37-00f843248f1c>\u001b[0m in \u001b[0;36mapplyActivationFunction\u001b[0;34m(self, values, activation)\u001b[0m\n\u001b[1;32m     63\u001b[0m     \u001b[0;32mdef\u001b[0m \u001b[0mapplyActivationFunction\u001b[0m\u001b[0;34m(\u001b[0m\u001b[0mself\u001b[0m\u001b[0;34m,\u001b[0m \u001b[0mvalues\u001b[0m\u001b[0;34m,\u001b[0m \u001b[0mactivation\u001b[0m\u001b[0;34m)\u001b[0m\u001b[0;34m:\u001b[0m\u001b[0;34m\u001b[0m\u001b[0;34m\u001b[0m\u001b[0m\n\u001b[1;32m     64\u001b[0m         \u001b[0;32mif\u001b[0m \u001b[0mactivation\u001b[0m\u001b[0;34m==\u001b[0m\u001b[0;34m'sigmoid'\u001b[0m\u001b[0;34m:\u001b[0m\u001b[0;34m\u001b[0m\u001b[0;34m\u001b[0m\u001b[0m\n\u001b[0;32m---> 65\u001b[0;31m             \u001b[0;32mreturn\u001b[0m \u001b[0mself\u001b[0m\u001b[0;34m.\u001b[0m\u001b[0msigmoid\u001b[0m\u001b[0;34m(\u001b[0m\u001b[0mvalues\u001b[0m\u001b[0;34m)\u001b[0m\u001b[0;34m\u001b[0m\u001b[0;34m\u001b[0m\u001b[0m\n\u001b[0m\u001b[1;32m     66\u001b[0m         \u001b[0;32melif\u001b[0m \u001b[0mactivation\u001b[0m\u001b[0;34m==\u001b[0m\u001b[0;34m'softmax'\u001b[0m\u001b[0;34m:\u001b[0m\u001b[0;34m\u001b[0m\u001b[0;34m\u001b[0m\u001b[0m\n\u001b[1;32m     67\u001b[0m             \u001b[0;32mreturn\u001b[0m \u001b[0mself\u001b[0m\u001b[0;34m.\u001b[0m\u001b[0msoftmax\u001b[0m\u001b[0;34m(\u001b[0m\u001b[0mvalues\u001b[0m\u001b[0;34m)\u001b[0m\u001b[0;34m\u001b[0m\u001b[0;34m\u001b[0m\u001b[0m\n",
            "\u001b[0;31mTypeError\u001b[0m: 'NoneType' object is not callable"
          ]
        }
      ]
    }
  ]
}