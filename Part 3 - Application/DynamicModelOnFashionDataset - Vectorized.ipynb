{
  "nbformat": 4,
  "nbformat_minor": 0,
  "metadata": {
    "colab": {
      "name": "Copy of Keras NN Fashion.ipynb",
      "provenance": [],
      "collapsed_sections": []
    },
    "kernelspec": {
      "display_name": "Python 3",
      "name": "python3"
    }
  },
  "cells": [
    {
      "cell_type": "code",
      "metadata": {
        "colab": {
          "base_uri": "https://localhost:8080/"
        },
        "id": "_eVBo7CUdj7L",
        "outputId": "46d9dc97-f402-478c-94e2-fd517bab4b8d"
      },
      "source": [
        "%tensorflow_version 2.x  # this line is not required unless you are in google colab\n",
        "# TensorFlow and tf.keras\n",
        "import tensorflow as tf\n",
        "from tensorflow import keras\n",
        "from sklearn.utils import shuffle\n",
        "\n",
        "# Helper libraries\n",
        "import numpy as np\n",
        "import matplotlib.pyplot as plt"
      ],
      "execution_count": 4,
      "outputs": [
        {
          "output_type": "stream",
          "text": [
            "`%tensorflow_version` only switches the major version: 1.x or 2.x.\n",
            "You set: `2.x  # this line is not required unless you are in google colab`. This will be interpreted as: `2.x`.\n",
            "\n",
            "\n",
            "TensorFlow 2.x selected.\n"
          ],
          "name": "stdout"
        }
      ]
    },
    {
      "cell_type": "code",
      "metadata": {
        "colab": {
          "base_uri": "https://localhost:8080/"
        },
        "id": "oxnmJlsDdtDX",
        "outputId": "7b3e59cd-2052-4d8d-eb01-912305b07d17"
      },
      "source": [
        "# MNIST Fashion Dataset.\n",
        "# 60,000 images for testing, 10,000 images for validation/testing\n",
        "\n",
        "fashion_mnist = keras.datasets.fashion_mnist  # load dataset\n",
        "\n",
        "(train_images, train_labels), (test_images, test_labels) = fashion_mnist.load_data()  # split into tetsing and training"
      ],
      "execution_count": 5,
      "outputs": [
        {
          "output_type": "stream",
          "text": [
            "Downloading data from https://storage.googleapis.com/tensorflow/tf-keras-datasets/train-labels-idx1-ubyte.gz\n",
            "32768/29515 [=================================] - 0s 0us/step\n",
            "Downloading data from https://storage.googleapis.com/tensorflow/tf-keras-datasets/train-images-idx3-ubyte.gz\n",
            "26427392/26421880 [==============================] - 0s 0us/step\n",
            "Downloading data from https://storage.googleapis.com/tensorflow/tf-keras-datasets/t10k-labels-idx1-ubyte.gz\n",
            "8192/5148 [===============================================] - 0s 0us/step\n",
            "Downloading data from https://storage.googleapis.com/tensorflow/tf-keras-datasets/t10k-images-idx3-ubyte.gz\n",
            "4423680/4422102 [==============================] - 0s 0us/step\n"
          ],
          "name": "stdout"
        }
      ]
    },
    {
      "cell_type": "code",
      "metadata": {
        "colab": {
          "base_uri": "https://localhost:8080/"
        },
        "id": "t-fbCq1cds7Q",
        "outputId": "4183e75e-6b23-4016-8710-f54f6432a021"
      },
      "source": [
        "train_images.shape # 60,000 images, each 28x28 (784 pixels)"
      ],
      "execution_count": 3,
      "outputs": [
        {
          "output_type": "execute_result",
          "data": {
            "text/plain": [
              "(60000, 28, 28)"
            ]
          },
          "metadata": {
            "tags": []
          },
          "execution_count": 3
        }
      ]
    },
    {
      "cell_type": "code",
      "metadata": {
        "colab": {
          "base_uri": "https://localhost:8080/"
        },
        "id": "5VZZmiEoeekq",
        "outputId": "4e2cb272-9db0-4a97-a9a7-53c6521fd8a0"
      },
      "source": [
        "train_images[0,23,23] # value of one pixel (grayscale image)"
      ],
      "execution_count": null,
      "outputs": [
        {
          "output_type": "execute_result",
          "data": {
            "text/plain": [
              "194"
            ]
          },
          "metadata": {
            "tags": []
          },
          "execution_count": 4
        }
      ]
    },
    {
      "cell_type": "code",
      "metadata": {
        "id": "72WLqQrYemKx"
      },
      "source": [
        "# Labels\n",
        "class_names = ['T-shirt/top', 'Trouser', 'Pullover', 'Dress', 'Coat',\n",
        "               'Sandal', 'Shirt', 'Sneaker', 'Bag', 'Ankle boot']"
      ],
      "execution_count": 4,
      "outputs": []
    },
    {
      "cell_type": "code",
      "metadata": {
        "colab": {
          "base_uri": "https://localhost:8080/",
          "height": 265
        },
        "id": "4RE89_rMetUO",
        "outputId": "a588c8eb-01b3-4b27-b846-7b39be8afa42"
      },
      "source": [
        "plt.figure()\n",
        "plt.imshow(train_images[1])\n",
        "plt.colorbar()\n",
        "plt.grid(True)\n",
        "plt.show()"
      ],
      "execution_count": 5,
      "outputs": [
        {
          "output_type": "display_data",
          "data": {
            "image/png": "[encoded data removed]",
            "text/plain": [
              "<Figure size 432x288 with 2 Axes>"
            ]
          },
          "metadata": {
            "tags": [],
            "needs_background": "light"
          }
        }
      ]
    },
    {
      "cell_type": "code",
      "metadata": {
        "id": "u3tG1U3He4ws"
      },
      "source": [
        "# Data pre-processing\n",
        "train_images = train_images / 255.0 # Change range from 0-255 to 0-1\n",
        "\n",
        "test_images = test_images / 255.0"
      ],
      "execution_count": 6,
      "outputs": []
    },
    {
      "cell_type": "code",
      "metadata": {
        "id": "UbNFo-e6fWl6"
      },
      "source": [
        "#VECTORIZED VERSION\n",
        "@np.vectorize\n",
        "def sigmoid(z):\n",
        "    if z >= 0:\n",
        "      return 1.0 / (1.0 + np.e**(-z))\n",
        "    else:\n",
        "      return np.e**(z) / (1 + np.e**(z))\n",
        "\n",
        "@np.vectorize\n",
        "def sigmoidPrime(z):\n",
        "    # Derivative of Sigmoid Function\n",
        "      return sigmoid(z) * (1-sigmoid(z))\n",
        "\n",
        "class Model3:\n",
        "    def __init__(self, model_structure=[2, 3, 2], modelActivationFunctions=[\"sigmoid\", \"sigmoid\"], sig=None, sigPrime=None):\n",
        "        self.model_structure = model_structure\n",
        "        self.modelActivationFunctions = modelActivationFunctions\n",
        "        self.modelWidth = len(model_structure)\n",
        "\n",
        "        self.sigmoid = sig\n",
        "        self.sigmoidPrime = sigPrime\n",
        "\n",
        "        # Safety Check to make sure model structure is legitimate\n",
        "        if self.modelWidth<3 or self.modelWidth-1!=len(self.modelActivationFunctions):\n",
        "            print(\"Model Structure Error!\")\n",
        "            exit(1)  \n",
        "\n",
        "        # Weights (Parameters) - Randomly Assigned\n",
        "        self.weights = list()\n",
        "        self.weights.append(np.random.randn(self.model_structure[1],self.model_structure[0])) # Input Layer Weights\n",
        "        for i in range(1, self.modelWidth-1):\n",
        "            self.weights.append(np.random.randn(self.model_structure[i+1], self.model_structure[i]))\n",
        "\n",
        "        # Biases - Randomly Assigned\n",
        "        self.biases = list()\n",
        "        for i in range(1, self.modelWidth):\n",
        "            self.biases.append(np.random.randn(self.model_structure[i], 1))  # Length should be number of columns of X\n",
        "        '''self.weights = [np.array(([[0.15, 0.3], [0.2, 0.35], [0.25, 0.4]]), dtype=float), np.array(([[0.5, 0.6, 0.7], [0.55, 0.65, 0.75]]), dtype=float)]\n",
        "        self.biases = [[[0.45], [0.45], [0.45]], [[0.8], [0.8]]]'''\n",
        "    \n",
        "    def softmax(self, x):\n",
        "        return np.exp(x) / np.sum(np.exp(x), axis=0)\n",
        "    '''\n",
        "    def softmax(z):\n",
        "        z -= np.max(z)\n",
        "        sm = (np.exp(z).T / np.sum(np.exp(z), axis=0)).T\n",
        "        return sm\n",
        "    '''\n",
        "    def softmaxPrime(self, z):\n",
        "        z -= np.max(z)\n",
        "        sm = (np.exp(z).T / np.sum(np.exp(z), axis=0)).T\n",
        "        s = sm.reshape(-1,1)# Reshape the 1-d softmax to 2-d so that np.dot will do the matrix multiplication\n",
        "        return np.diagflat(s) - np.dot(s, s.T)\n",
        "\n",
        "    def relu(self, z):\n",
        "        return np.maximum(0, z)\n",
        "    \n",
        "    def reluPrime(self, x):\n",
        "        x[x<=0] = 0\n",
        "        x[x>0] = 1\n",
        "        return x\n",
        "    \n",
        "    def applyActivationFunction(self, values, activation):\n",
        "        if activation=='sigmoid':\n",
        "            return self.sigmoid(values)\n",
        "        elif activation=='softmax':\n",
        "            return self.softmax(values)\n",
        "        elif activation=='relu':\n",
        "            return self.relu(values)\n",
        "        else:\n",
        "            print(\"Unknown Activation Function! Got:\", activation)\n",
        "            exit(1)\n",
        "    \n",
        "    def applyActivationFunctionPrime(self, values, activation):\n",
        "        if activation=='sigmoid':\n",
        "            return self.sigmoidPrime(values)\n",
        "        elif activation=='softmax':\n",
        "            return self.softmaxPrime(values)\n",
        "        elif activation=='relu':\n",
        "            return self.reluPrime(values)\n",
        "        else:\n",
        "            print(\"Unknown Activation Function! Got:\", activation)\n",
        "            exit(1)\n",
        "\n",
        "    def forward(self, X):\n",
        "        # Propogate inputs through networks\n",
        "        self.aValues = list()\n",
        "        self.zValues = list()\n",
        "        self.aValues.append(X) # First a value = input values\n",
        "        for i in range(0, len(self.weights)):\n",
        "            self.zValues.append(np.dot(self.weights[i], self.aValues[i]) + self.biases[i])\n",
        "            self.aValues.append(self.applyActivationFunction(self.zValues[i], self.modelActivationFunctions[i]))\n",
        "        yHat = self.aValues[-1]\n",
        "        return yHat\n",
        "\n",
        "    def costFunction(self, X, y):\n",
        "        # Compute cost using the weights already stored\n",
        "        self.yHat = self.forward(X)\n",
        "        J = 0.5*sum((y-self.yHat)**2)\n",
        "        return J\n",
        "    \n",
        "    def costFunctionPrime(self, X, y):\n",
        "        # Computes partial derivatives of Cost function with respect to weights & biases\n",
        "        self.yHat = self.forward(X)\n",
        "        \n",
        "        weightDerivatives = list() # Derivative of Cost function with respect to weights\n",
        "        biasDerivatives = list() # Derivative of Cost function with respect to biases\n",
        "\n",
        "        # Last Layer derivatives\n",
        "        delta = np.multiply(-(y-self.aValues[-1]), self.sigmoidPrime(self.zValues[-1]))\n",
        "        weightDerivatives.insert(0, np.dot(delta, self.aValues[-2].T))\n",
        "        biasDerivatives.insert(0, delta.sum(axis=1).reshape(delta.shape[0],1)) \n",
        "        \n",
        "        # Derivatives for the other layers (L-1, L-2, ...)\n",
        "        for i in range(self.modelWidth-2, 0, -1):\n",
        "            delta = np.multiply(np.dot(self.weights[i].T, delta), self.applyActivationFunctionPrime(self.zValues[i-1], self.modelActivationFunctions[i])) \n",
        "            weightDerivatives.insert(0, np.dot(delta, self.aValues[i-1].T))\n",
        "            biasDerivatives.insert(0, delta.sum(axis=1).reshape(delta.shape[0],1))\n",
        "\n",
        "        return weightDerivatives, biasDerivatives\n",
        "    \n",
        "    def tuneParams(self, X, y, learning_rate=0.5, getLoss=False):\n",
        "        # Get Derivatives of Weights & Biases, and then adjust weights/biases with learning rate*derivatives\n",
        "        # getLoss: if you want to calculate loss (before adjusting weights)\n",
        "        self.weightDerivatives, self.biasDerivatives = self.costFunctionPrime(X, y)\n",
        "        \n",
        "        loss = None\n",
        "        if getLoss:\n",
        "           loss = ((y-self.yHat)**2)/2\n",
        "           # print(X.shape)\n",
        "           loss = loss.sum()/X.shape[1]\n",
        "\n",
        "        scalar = learning_rate # learning rate divided by number of samples\n",
        "        for i in range(0, len(self.weights)):\n",
        "            self.weights[i] = self.weights[i] - (scalar*self.weightDerivatives[i] / X.shape[1])\n",
        "            self.biases[i] = self.biases[i] - (scalar*self.biasDerivatives[i] / X.shape[1])\n",
        "        \n",
        "        return loss\n",
        "    \n",
        "    def one_hot_encoder(self, expected):\n",
        "        # formats label into array of zeros except for the index of the correct prediction\n",
        "        #expected = expected.to_numpy()\n",
        "        expected = expected.reshape(expected.shape[0],)\n",
        "        b = np.zeros((expected.size, int(expected.max()+1)))\n",
        "        b[np.arange(expected.size), expected] = 1\n",
        "        return b.T\n",
        "\n",
        "    def fit(self, X, y, TestDataX=None, TestDatay=None, learning_rate=0.5, epochs=10, batch_size=32, flatten=False, stagger=True):\n",
        "        # X: Training Data\n",
        "        # y: Labels for Training Data\n",
        "        # TestingDataX: Testing Data (if staggering)\n",
        "        # TestingDatay: Labels for Testing Data (if staggering)\n",
        "        # learning_rate: rate at which to update the weights with their derivatives\n",
        "        # epochs: number of \"runs\" to execute. Each run is going through the entire dataset once\n",
        "        # batch_size: number of samples to go through before tuning parameters\n",
        "        # Flatten: if each sample of the test data needs to be flatten (like if each sample is an image)\n",
        "        # Stagger: if to test model after every epoch\n",
        "\n",
        "        if X.shape[0] % batch_size != 0:\n",
        "          print(\"# of training samples isn't divisible by entered batch size!\")\n",
        "          exit(1)\n",
        "        \n",
        "        if stagger and ((TestDataX is None) or (TestDatay is None)):\n",
        "          print(\"You can't stagger when you don't pass in testing data and/or it's labels!\")\n",
        "          exit(1)\n",
        "\n",
        "        if flatten:\n",
        "          inputNumber = 1\n",
        "          #print(X.shape)\n",
        "          for i in range(1, len(X.shape)):\n",
        "            inputNumber*=X.shape[i]\n",
        "          X = X.reshape(X.shape[0], inputNumber)\n",
        "          #print(X.shape)\n",
        "          TestDataX = TestDataX.reshape(TestDataX.shape[0], inputNumber)\n",
        "        \n",
        "        y_formatted = self.one_hot_encoder(train_labels)\n",
        "        loss_list_average = list() # Keeps all the average losses from each epoch\n",
        "        train_accuracies = list() # Keeps all the training accuracies from each epoch (which is apparently: (1-averageLoss))\n",
        "        test_accuracies = list() # Keeps all the testing accuracies from each epoch\n",
        "        for i in range(1, epochs+1):\n",
        "          print(\"Epoch:\", i)\n",
        "          loss_list = list() # This is for keeping all the losses from each batch in the epoch; used to calculate lost_list_average\n",
        "          for j in range(1, int(X.shape[0]/batch_size)+1): # Going through each batch\n",
        "            if j%int((int(X.shape[0]/batch_size)/10)) == 0:\n",
        "              print(\"Iteration:\", j)\n",
        "            # Slice appropriate batch sizes\n",
        "            X_batch = X[(j-1)*batch_size : j*batch_size].T #'''Why do we need to transpose here???'''\n",
        "            # print(y_formatted.shape)\n",
        "            y_batch_formatted = y_formatted[:, (j-1)*batch_size : j*batch_size]\n",
        "            # print(y_batch_formatted.shape)\n",
        "            # Training & Getting Loss\n",
        "            loss = self.tuneParams(X_batch, y_batch_formatted, learning_rate, getLoss=True)\n",
        "            # print(\"Loss:\", loss)\n",
        "            loss_list.append(loss)\n",
        "          # print(model.weights)\n",
        "          loss_list_average.append((sum(loss_list)/len(loss_list)))\n",
        "          train_accuracies.append(1 - loss_list_average[i-1])\n",
        "          print(\"Average loss across batches:\", loss_list_average[i-1])\n",
        "          print(\"Training Accuracy:\", train_accuracies[i-1])\n",
        "\n",
        "          if stagger:\n",
        "            outputs = self.forward(TestDataX.T)\n",
        "            # print(outputs.shape)\n",
        "            predictions = list()\n",
        "            outputs = outputs.T\n",
        "            for output in outputs: # Going through output for each sample to format prediction\n",
        "              #print(output)\n",
        "              predictions.append(np.argmax(output))\n",
        "            numberOfCorrect = 0\n",
        "            # print(len(predictions))\n",
        "            # print(TestDatay.shape)\n",
        "            for j in range(0, len(TestDatay)): # Calculating the accruacy\n",
        "              # print(str(j)+\"|\", \"Prediction:\", predictions[j], \"Actual:\", TestDatay[j])\n",
        "              if TestDatay[j] == predictions[j]:\n",
        "                numberOfCorrect+=1\n",
        "            print(\"Number of Correct:\", numberOfCorrect)\n",
        "            print(\"Total Number:\", len(TestDatay))\n",
        "            testAccuracy = numberOfCorrect/len(TestDatay)\n",
        "            print(\"Testing Accuracy:\", testAccuracy)\n",
        "            test_accuracies.append(testAccuracy)\n",
        "          print()\n",
        "          \n",
        "          # Shuffling\n",
        "          # print(X.shape)\n",
        "          # print(y_formatted.shape)\n",
        "          X_shuffled, y_formatted_shuffled = shuffle(X, y_formatted.T, random_state=0)\n",
        "          X = X_shuffled\n",
        "          y_formatted = y_formatted_shuffled.T\n",
        "\n",
        "        return loss_list_average, train_accuracies, test_accuracies\n",
        "        "
      ],
      "execution_count": 7,
      "outputs": []
    },
    {
      "cell_type": "code",
      "metadata": {
        "id": "Q-5fPFyHjceF"
      },
      "source": [
        "model = Model3(model_structure=[784, 128, 10], modelActivationFunctions=['relu', 'sigmoid'], sig=sigmoid, sigPrime=sigmoidPrime)"
      ],
      "execution_count": 8,
      "outputs": []
    },
    {
      "cell_type": "code",
      "metadata": {
        "colab": {
          "base_uri": "https://localhost:8080/"
        },
        "id": "ANoD1Xumkkqs",
        "outputId": "932a9fbc-1f2e-4dad-eab0-8782d8a5fa95"
      },
      "source": [
        "# Training the model\n",
        "\n",
        "(train_images, train_labels), (test_images, test_labels)\n",
        "\n",
        "model.fit(train_images, train_labels, test_images, test_labels, learning_rate=0.01, epochs=10, batch_size=32, flatten=True, stagger=True)"
      ],
      "execution_count": 9,
      "outputs": [
        {
          "output_type": "stream",
          "text": [
            "Epoch: 1\n",
            "Iteration: 187\n",
            "Iteration: 374\n",
            "Iteration: 561\n",
            "Iteration: 748\n",
            "Iteration: 935\n",
            "Iteration: 1122\n",
            "Iteration: 1309\n",
            "Iteration: 1496\n",
            "Iteration: 1683\n",
            "Iteration: 1870\n",
            "Average loss across batches: 1.739031203484398\n",
            "Training Accuracy: -0.739031203484398\n",
            "Number of Correct: 1002\n",
            "Total Number: 10000\n",
            "Testing Accuracy: 0.1002\n",
            "\n",
            "Epoch: 2\n",
            "Iteration: 187\n",
            "Iteration: 374\n",
            "Iteration: 561\n",
            "Iteration: 748\n",
            "Iteration: 935\n",
            "Iteration: 1122\n",
            "Iteration: 1309\n",
            "Iteration: 1496\n",
            "Iteration: 1683\n",
            "Iteration: 1870\n",
            "Average loss across batches: 0.9872659671793507\n",
            "Training Accuracy: 0.012734032820649333\n",
            "Number of Correct: 1004\n",
            "Total Number: 10000\n",
            "Testing Accuracy: 0.1004\n",
            "\n",
            "Epoch: 3\n",
            "Iteration: 187\n",
            "Iteration: 374\n",
            "Iteration: 561\n",
            "Iteration: 748\n",
            "Iteration: 935\n",
            "Iteration: 1122\n",
            "Iteration: 1309\n",
            "Iteration: 1496\n",
            "Iteration: 1683\n",
            "Iteration: 1870\n",
            "Average loss across batches: 0.9201508176145284\n",
            "Training Accuracy: 0.07984918238547156\n",
            "Number of Correct: 1004\n",
            "Total Number: 10000\n",
            "Testing Accuracy: 0.1004\n",
            "\n",
            "Epoch: 4\n",
            "Iteration: 187\n",
            "Iteration: 374\n",
            "Iteration: 561\n",
            "Iteration: 748\n",
            "Iteration: 935\n",
            "Iteration: 1122\n",
            "Iteration: 1309\n",
            "Iteration: 1496\n",
            "Iteration: 1683\n",
            "Iteration: 1870\n",
            "Average loss across batches: 0.9107811150603118\n",
            "Training Accuracy: 0.08921888493968821\n",
            "Number of Correct: 1005\n",
            "Total Number: 10000\n",
            "Testing Accuracy: 0.1005\n",
            "\n",
            "Epoch: 5\n",
            "Iteration: 187\n",
            "Iteration: 374\n",
            "Iteration: 561\n",
            "Iteration: 748\n",
            "Iteration: 935\n",
            "Iteration: 1122\n",
            "Iteration: 1309\n",
            "Iteration: 1496\n",
            "Iteration: 1683\n",
            "Iteration: 1870\n",
            "Average loss across batches: 0.9066966497816988\n",
            "Training Accuracy: 0.09330335021830116\n",
            "Number of Correct: 1007\n",
            "Total Number: 10000\n",
            "Testing Accuracy: 0.1007\n",
            "\n",
            "Epoch: 6\n",
            "Iteration: 187\n",
            "Iteration: 374\n",
            "Iteration: 561\n",
            "Iteration: 748\n",
            "Iteration: 935\n",
            "Iteration: 1122\n",
            "Iteration: 1309\n",
            "Iteration: 1496\n",
            "Iteration: 1683\n",
            "Iteration: 1870\n",
            "Average loss across batches: 0.9041864150277211\n",
            "Training Accuracy: 0.09581358497227888\n",
            "Number of Correct: 1007\n",
            "Total Number: 10000\n",
            "Testing Accuracy: 0.1007\n",
            "\n",
            "Epoch: 7\n",
            "Iteration: 187\n",
            "Iteration: 374\n",
            "Iteration: 561\n",
            "Iteration: 748\n",
            "Iteration: 935\n",
            "Iteration: 1122\n",
            "Iteration: 1309\n",
            "Iteration: 1496\n",
            "Iteration: 1683\n",
            "Iteration: 1870\n",
            "Average loss across batches: 0.9023380474161983\n",
            "Training Accuracy: 0.09766195258380173\n",
            "Number of Correct: 1010\n",
            "Total Number: 10000\n",
            "Testing Accuracy: 0.101\n",
            "\n",
            "Epoch: 8\n",
            "Iteration: 187\n",
            "Iteration: 374\n",
            "Iteration: 561\n",
            "Iteration: 748\n",
            "Iteration: 935\n",
            "Iteration: 1122\n",
            "Iteration: 1309\n",
            "Iteration: 1496\n",
            "Iteration: 1683\n",
            "Iteration: 1870\n",
            "Average loss across batches: 0.9009774655876592\n",
            "Training Accuracy: 0.09902253441234077\n",
            "Number of Correct: 1011\n",
            "Total Number: 10000\n",
            "Testing Accuracy: 0.1011\n",
            "\n",
            "Epoch: 9\n",
            "Iteration: 187\n",
            "Iteration: 374\n",
            "Iteration: 561\n",
            "Iteration: 748\n",
            "Iteration: 935\n",
            "Iteration: 1122\n",
            "Iteration: 1309\n",
            "Iteration: 1496\n",
            "Iteration: 1683\n",
            "Iteration: 1870\n",
            "Average loss across batches: 0.8997818015790944\n",
            "Training Accuracy: 0.10021819842090562\n",
            "Number of Correct: 1014\n",
            "Total Number: 10000\n",
            "Testing Accuracy: 0.1014\n",
            "\n",
            "Epoch: 10\n",
            "Iteration: 187\n",
            "Iteration: 374\n",
            "Iteration: 561\n",
            "Iteration: 748\n",
            "Iteration: 935\n",
            "Iteration: 1122\n",
            "Iteration: 1309\n",
            "Iteration: 1496\n",
            "Iteration: 1683\n",
            "Iteration: 1870\n",
            "Average loss across batches: 0.8986883923128152\n",
            "Training Accuracy: 0.10131160768718483\n",
            "Number of Correct: 1014\n",
            "Total Number: 10000\n",
            "Testing Accuracy: 0.1014\n",
            "\n"
          ],
          "name": "stdout"
        },
        {
          "output_type": "execute_result",
          "data": {
            "text/plain": [
              "([1.739031203484398,\n",
              "  0.9872659671793507,\n",
              "  0.9201508176145284,\n",
              "  0.9107811150603118,\n",
              "  0.9066966497816988,\n",
              "  0.9041864150277211,\n",
              "  0.9023380474161983,\n",
              "  0.9009774655876592,\n",
              "  0.8997818015790944,\n",
              "  0.8986883923128152],\n",
              " [-0.739031203484398,\n",
              "  0.012734032820649333,\n",
              "  0.07984918238547156,\n",
              "  0.08921888493968821,\n",
              "  0.09330335021830116,\n",
              "  0.09581358497227888,\n",
              "  0.09766195258380173,\n",
              "  0.09902253441234077,\n",
              "  0.10021819842090562,\n",
              "  0.10131160768718483],\n",
              " [0.1002,\n",
              "  0.1004,\n",
              "  0.1004,\n",
              "  0.1005,\n",
              "  0.1007,\n",
              "  0.1007,\n",
              "  0.101,\n",
              "  0.1011,\n",
              "  0.1014,\n",
              "  0.1014])"
            ]
          },
          "metadata": {
            "tags": []
          },
          "execution_count": 9
        }
      ]
    },
    {
      "cell_type": "code",
      "metadata": {
        "id": "JacuuCk6s0jw"
      },
      "source": [
        "model = Model3(model_structure=[784, 128, 10], modelActivationFunctions=['relu', 'sigmoid']) # Another test"
      ],
      "execution_count": 8,
      "outputs": []
    },
    {
      "cell_type": "code",
      "metadata": {
        "id": "i1pWLQqcOOEA",
        "colab": {
          "base_uri": "https://localhost:8080/"
        },
        "outputId": "e2fadaa5-d634-4006-ddad-8d9cec33dffc"
      },
      "source": [
        "# Training the model\r\n",
        "\r\n",
        "(train_images, train_labels), (test_images, test_labels)\r\n",
        "\r\n",
        "model.fit(train_images, train_labels, test_images, test_labels, learning_rate=0.01, epochs=10, batch_size=32, flatten=True, stagger=True)"
      ],
      "execution_count": 9,
      "outputs": [
        {
          "output_type": "stream",
          "text": [
            "Epoch: 1\n"
          ],
          "name": "stdout"
        },
        {
          "output_type": "stream",
          "text": [
            "/usr/local/lib/python3.6/dist-packages/ipykernel_launcher.py:31: RuntimeWarning: overflow encountered in square\n"
          ],
          "name": "stderr"
        },
        {
          "output_type": "stream",
          "text": [
            "Average loss across batches: 1.127746841487802\n",
            "Training Accuracy: -0.12774684148780202\n",
            "Number of Correct: 1577\n",
            "Total Number: 10000\n",
            "Testing Accuracy: 0.1577\n",
            "\n",
            "Epoch: 2\n",
            "Average loss across batches: 0.5479248235545682\n",
            "Training Accuracy: 0.4520751764454318\n",
            "Number of Correct: 1799\n",
            "Total Number: 10000\n",
            "Testing Accuracy: 0.1799\n",
            "\n",
            "Epoch: 3\n",
            "Average loss across batches: 0.5199435405142032\n",
            "Training Accuracy: 0.4800564594857968\n",
            "Number of Correct: 1878\n",
            "Total Number: 10000\n",
            "Testing Accuracy: 0.1878\n",
            "\n",
            "Epoch: 4\n",
            "Average loss across batches: 0.5110870566022259\n",
            "Training Accuracy: 0.48891294339777414\n",
            "Number of Correct: 1943\n",
            "Total Number: 10000\n",
            "Testing Accuracy: 0.1943\n",
            "\n",
            "Epoch: 5\n",
            "Average loss across batches: 0.5059015155535658\n",
            "Training Accuracy: 0.4940984844464342\n",
            "Number of Correct: 1979\n",
            "Total Number: 10000\n",
            "Testing Accuracy: 0.1979\n",
            "\n",
            "Epoch: 6\n",
            "Average loss across batches: 0.502763514000012\n",
            "Training Accuracy: 0.49723648599998804\n",
            "Number of Correct: 2002\n",
            "Total Number: 10000\n",
            "Testing Accuracy: 0.2002\n",
            "\n",
            "Epoch: 7\n",
            "Average loss across batches: 0.5000992457414055\n",
            "Training Accuracy: 0.4999007542585945\n",
            "Number of Correct: 2031\n",
            "Total Number: 10000\n",
            "Testing Accuracy: 0.2031\n",
            "\n",
            "Epoch: 8\n",
            "Average loss across batches: 0.4974872605834454\n",
            "Training Accuracy: 0.5025127394165546\n",
            "Number of Correct: 2028\n",
            "Total Number: 10000\n",
            "Testing Accuracy: 0.2028\n",
            "\n",
            "Epoch: 9\n",
            "Average loss across batches: 0.4948856337601316\n",
            "Training Accuracy: 0.5051143662398684\n",
            "Number of Correct: 2042\n",
            "Total Number: 10000\n",
            "Testing Accuracy: 0.2042\n",
            "\n",
            "Epoch: 10\n",
            "Average loss across batches: 0.49213885363745\n",
            "Training Accuracy: 0.50786114636255\n",
            "Number of Correct: 2053\n",
            "Total Number: 10000\n",
            "Testing Accuracy: 0.2053\n",
            "\n"
          ],
          "name": "stdout"
        },
        {
          "output_type": "execute_result",
          "data": {
            "text/plain": [
              "([1.127746841487802,\n",
              "  0.5479248235545682,\n",
              "  0.5199435405142032,\n",
              "  0.5110870566022259,\n",
              "  0.5059015155535658,\n",
              "  0.502763514000012,\n",
              "  0.5000992457414055,\n",
              "  0.4974872605834454,\n",
              "  0.4948856337601316,\n",
              "  0.49213885363745],\n",
              " [-0.12774684148780202,\n",
              "  0.4520751764454318,\n",
              "  0.4800564594857968,\n",
              "  0.48891294339777414,\n",
              "  0.4940984844464342,\n",
              "  0.49723648599998804,\n",
              "  0.4999007542585945,\n",
              "  0.5025127394165546,\n",
              "  0.5051143662398684,\n",
              "  0.50786114636255],\n",
              " [0.1577,\n",
              "  0.1799,\n",
              "  0.1878,\n",
              "  0.1943,\n",
              "  0.1979,\n",
              "  0.2002,\n",
              "  0.2031,\n",
              "  0.2028,\n",
              "  0.2042,\n",
              "  0.2053])"
            ]
          },
          "metadata": {
            "tags": []
          },
          "execution_count": 9
        }
      ]
    }
  ]
}